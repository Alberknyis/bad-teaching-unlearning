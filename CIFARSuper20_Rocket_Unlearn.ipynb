{
  "cells": [
    {
      "cell_type": "code",
      "source": [
        "!pip uninstall torch torchvision cloud-tpu-client\n",
        "!pip install cloud-tpu-client==0.10 https://storage.googleapis.com/tpu-pytorch/wheels/torch_xla-1.9-cp37-cp37m-linux_x86_64.whl\n",
        "!pip install torch==1.9.0+cu111 torchvision==0.10.0+cu111 torchtext==0.10.0 -f https://download.pytorch.org/whl/cu111/torch_stable.html"
      ],
      "metadata": {
        "id": "L4n71pWfV08E",
        "outputId": "c3f0964e-0e35-4e26-d499-dc8f1cd1f9c7",
        "colab": {
          "base_uri": "https://localhost:8080/"
        }
      },
      "id": "L4n71pWfV08E",
      "execution_count": 8,
      "outputs": [
        {
          "output_type": "stream",
          "name": "stdout",
          "text": [
            "Found existing installation: torch 1.13.0\n",
            "Uninstalling torch-1.13.0:\n",
            "  Would remove:\n",
            "    /usr/local/bin/convert-caffe2-to-onnx\n",
            "    /usr/local/bin/convert-onnx-to-caffe2\n",
            "    /usr/local/bin/torchrun\n",
            "    /usr/local/lib/python3.10/dist-packages/functorch/*\n",
            "    /usr/local/lib/python3.10/dist-packages/torch-1.13.0.dist-info/*\n",
            "    /usr/local/lib/python3.10/dist-packages/torch/*\n",
            "    /usr/local/lib/python3.10/dist-packages/torchgen/*\n",
            "Proceed (Y/n)? Y\n",
            "  Successfully uninstalled torch-1.13.0\n",
            "Found existing installation: torchvision 0.17.0+cpu\n",
            "Uninstalling torchvision-0.17.0+cpu:\n",
            "  Would remove:\n",
            "    /usr/local/lib/python3.10/dist-packages/torchvision-0.17.0+cpu.dist-info/*\n",
            "    /usr/local/lib/python3.10/dist-packages/torchvision.libs/libjpeg.ceea7512.so.62\n",
            "    /usr/local/lib/python3.10/dist-packages/torchvision.libs/libpng16.7f72a3c5.so.16\n",
            "    /usr/local/lib/python3.10/dist-packages/torchvision.libs/libz.37eba27a.so.1\n",
            "    /usr/local/lib/python3.10/dist-packages/torchvision/*\n",
            "Proceed (Y/n)? Y\n",
            "  Successfully uninstalled torchvision-0.17.0+cpu\n",
            "Found existing installation: cloud-tpu-client 0.10\n",
            "Uninstalling cloud-tpu-client-0.10:\n",
            "  Would remove:\n",
            "    /usr/local/lib/python3.10/dist-packages/cloud_tpu_client-0.10.dist-info/*\n",
            "    /usr/local/lib/python3.10/dist-packages/cloud_tpu_client/*\n",
            "Proceed (Y/n)? Y\n",
            "  Successfully uninstalled cloud-tpu-client-0.10\n",
            "\u001b[31mERROR: torch_xla-1.9-cp37-cp37m-linux_x86_64.whl is not a supported wheel on this platform.\u001b[0m\u001b[31m\n",
            "\u001b[0mLooking in links: https://download.pytorch.org/whl/cu111/torch_stable.html\n",
            "\u001b[31mERROR: Could not find a version that satisfies the requirement torch==1.9.0+cu111 (from versions: 1.11.0, 1.12.0, 1.12.1, 1.13.0, 1.13.1, 2.0.0, 2.0.1, 2.1.0, 2.1.1, 2.1.2, 2.2.0, 2.2.1, 2.2.2)\u001b[0m\u001b[31m\n",
            "\u001b[0m\u001b[31mERROR: No matching distribution found for torch==1.9.0+cu111\u001b[0m\u001b[31m\n",
            "\u001b[0m"
          ]
        }
      ]
    },
    {
      "cell_type": "code",
      "source": [
        "#!pip install torch torchvision\n",
        "import torch\n",
        "import torchvision\n",
        "print(torch.__version__)\n",
        "print(torchvision.__version__)"
      ],
      "metadata": {
        "id": "07OK2VmDWjJx",
        "outputId": "1d667131-9757-4691-cdcf-2fed7ecbb22b",
        "colab": {
          "base_uri": "https://localhost:8080/"
        }
      },
      "id": "07OK2VmDWjJx",
      "execution_count": 2,
      "outputs": [
        {
          "output_type": "stream",
          "name": "stdout",
          "text": [
            "2.2.2+cu121\n",
            "0.17.2+cu121\n"
          ]
        }
      ]
    },
    {
      "cell_type": "code",
      "source": [
        "!pip uninstall torch_xla"
      ],
      "metadata": {
        "id": "--On7rPMXijC",
        "outputId": "8590e7d3-dae5-4a7a-e71b-825eb280fe3c",
        "colab": {
          "base_uri": "https://localhost:8080/"
        }
      },
      "id": "--On7rPMXijC",
      "execution_count": 4,
      "outputs": [
        {
          "output_type": "stream",
          "name": "stdout",
          "text": [
            "Found existing installation: torch-xla 2.1.0+xrt\n",
            "Uninstalling torch-xla-2.1.0+xrt:\n",
            "  Would remove:\n",
            "    /usr/local/bin/stablehlo-to-saved-model\n",
            "    /usr/local/lib/python3.10/dist-packages/_XLAC.cpython-310-x86_64-linux-gnu.so\n",
            "    /usr/local/lib/python3.10/dist-packages/torch_xla-2.1.0+xrt.dist-info/*\n",
            "    /usr/local/lib/python3.10/dist-packages/torch_xla/*\n",
            "Proceed (Y/n)? Y\n",
            "  Successfully uninstalled torch-xla-2.1.0+xrt\n"
          ]
        }
      ]
    },
    {
      "cell_type": "code",
      "source": [
        "pip install torch_xla"
      ],
      "metadata": {
        "id": "1SwXlta-XpSc",
        "outputId": "b8c023db-06fb-4f96-acaa-0ff30c8983e1",
        "colab": {
          "base_uri": "https://localhost:8080/"
        }
      },
      "id": "1SwXlta-XpSc",
      "execution_count": 5,
      "outputs": [
        {
          "output_type": "stream",
          "name": "stdout",
          "text": [
            "Collecting torch_xla\n",
            "  Using cached torch_xla-2.2.0-cp310-cp310-manylinux_2_28_x86_64.whl (85.5 MB)\n",
            "Requirement already satisfied: absl-py>=1.0.0 in /usr/local/lib/python3.10/dist-packages (from torch_xla) (1.4.0)\n",
            "Collecting cloud-tpu-client>=0.10.0 (from torch_xla)\n",
            "  Downloading cloud_tpu_client-0.10-py3-none-any.whl (7.4 kB)\n",
            "Requirement already satisfied: pyyaml in /usr/local/lib/python3.10/dist-packages (from torch_xla) (6.0.1)\n",
            "Requirement already satisfied: google-api-python-client==1.8.0 in /usr/local/lib/python3.10/dist-packages (from cloud-tpu-client>=0.10.0->torch_xla) (1.8.0)\n",
            "Requirement already satisfied: oauth2client in /usr/local/lib/python3.10/dist-packages (from cloud-tpu-client>=0.10.0->torch_xla) (4.1.3)\n",
            "Requirement already satisfied: httplib2<1dev,>=0.9.2 in /usr/local/lib/python3.10/dist-packages (from google-api-python-client==1.8.0->cloud-tpu-client>=0.10.0->torch_xla) (0.22.0)\n",
            "Requirement already satisfied: google-auth>=1.4.1 in /usr/local/lib/python3.10/dist-packages (from google-api-python-client==1.8.0->cloud-tpu-client>=0.10.0->torch_xla) (2.27.0)\n",
            "Requirement already satisfied: google-auth-httplib2>=0.0.3 in /usr/local/lib/python3.10/dist-packages (from google-api-python-client==1.8.0->cloud-tpu-client>=0.10.0->torch_xla) (0.2.0)\n",
            "Requirement already satisfied: google-api-core<2dev,>=1.13.0 in /usr/local/lib/python3.10/dist-packages (from google-api-python-client==1.8.0->cloud-tpu-client>=0.10.0->torch_xla) (1.34.1)\n",
            "Requirement already satisfied: six<2dev,>=1.6.1 in /usr/local/lib/python3.10/dist-packages (from google-api-python-client==1.8.0->cloud-tpu-client>=0.10.0->torch_xla) (1.16.0)\n",
            "Requirement already satisfied: uritemplate<4dev,>=3.0.0 in /usr/local/lib/python3.10/dist-packages (from google-api-python-client==1.8.0->cloud-tpu-client>=0.10.0->torch_xla) (3.0.1)\n",
            "Requirement already satisfied: pyasn1>=0.1.7 in /usr/local/lib/python3.10/dist-packages (from oauth2client->cloud-tpu-client>=0.10.0->torch_xla) (0.6.0)\n",
            "Requirement already satisfied: pyasn1-modules>=0.0.5 in /usr/local/lib/python3.10/dist-packages (from oauth2client->cloud-tpu-client>=0.10.0->torch_xla) (0.4.0)\n",
            "Requirement already satisfied: rsa>=3.1.4 in /usr/local/lib/python3.10/dist-packages (from oauth2client->cloud-tpu-client>=0.10.0->torch_xla) (4.9)\n",
            "Requirement already satisfied: googleapis-common-protos<2.0dev,>=1.56.2 in /usr/local/lib/python3.10/dist-packages (from google-api-core<2dev,>=1.13.0->google-api-python-client==1.8.0->cloud-tpu-client>=0.10.0->torch_xla) (1.63.0)\n",
            "Requirement already satisfied: protobuf!=3.20.0,!=3.20.1,!=4.21.0,!=4.21.1,!=4.21.2,!=4.21.3,!=4.21.4,!=4.21.5,<4.0.0dev,>=3.19.5 in /usr/local/lib/python3.10/dist-packages (from google-api-core<2dev,>=1.13.0->google-api-python-client==1.8.0->cloud-tpu-client>=0.10.0->torch_xla) (3.20.3)\n",
            "Requirement already satisfied: requests<3.0.0dev,>=2.18.0 in /usr/local/lib/python3.10/dist-packages (from google-api-core<2dev,>=1.13.0->google-api-python-client==1.8.0->cloud-tpu-client>=0.10.0->torch_xla) (2.31.0)\n",
            "Requirement already satisfied: cachetools<6.0,>=2.0.0 in /usr/local/lib/python3.10/dist-packages (from google-auth>=1.4.1->google-api-python-client==1.8.0->cloud-tpu-client>=0.10.0->torch_xla) (5.3.3)\n",
            "Requirement already satisfied: pyparsing!=3.0.0,!=3.0.1,!=3.0.2,!=3.0.3,<4,>=2.4.2 in /usr/local/lib/python3.10/dist-packages (from httplib2<1dev,>=0.9.2->google-api-python-client==1.8.0->cloud-tpu-client>=0.10.0->torch_xla) (3.1.2)\n",
            "Requirement already satisfied: charset-normalizer<4,>=2 in /usr/local/lib/python3.10/dist-packages (from requests<3.0.0dev,>=2.18.0->google-api-core<2dev,>=1.13.0->google-api-python-client==1.8.0->cloud-tpu-client>=0.10.0->torch_xla) (3.3.2)\n",
            "Requirement already satisfied: idna<4,>=2.5 in /usr/local/lib/python3.10/dist-packages (from requests<3.0.0dev,>=2.18.0->google-api-core<2dev,>=1.13.0->google-api-python-client==1.8.0->cloud-tpu-client>=0.10.0->torch_xla) (3.7)\n",
            "Requirement already satisfied: urllib3<3,>=1.21.1 in /usr/local/lib/python3.10/dist-packages (from requests<3.0.0dev,>=2.18.0->google-api-core<2dev,>=1.13.0->google-api-python-client==1.8.0->cloud-tpu-client>=0.10.0->torch_xla) (2.0.7)\n",
            "Requirement already satisfied: certifi>=2017.4.17 in /usr/local/lib/python3.10/dist-packages (from requests<3.0.0dev,>=2.18.0->google-api-core<2dev,>=1.13.0->google-api-python-client==1.8.0->cloud-tpu-client>=0.10.0->torch_xla) (2024.2.2)\n",
            "Installing collected packages: cloud-tpu-client, torch_xla\n",
            "Successfully installed cloud-tpu-client-0.10 torch_xla-2.2.0\n"
          ]
        }
      ]
    },
    {
      "cell_type": "code",
      "source": [
        "import torch_xla\n",
        "import torch_xla.core.xla_model as xm\n",
        "print(torch_xla.__version__)"
      ],
      "metadata": {
        "id": "s2771YZPXZaH",
        "outputId": "f1d7a17f-2ca9-4017-cf4d-073b75af8939",
        "colab": {
          "base_uri": "https://localhost:8080/"
        }
      },
      "id": "s2771YZPXZaH",
      "execution_count": 1,
      "outputs": [
        {
          "output_type": "stream",
          "name": "stdout",
          "text": [
            "2.2.0\n"
          ]
        }
      ]
    },
    {
      "cell_type": "code",
      "source": [
        "#!pip uninstall tensorflow\n",
        "#!pip install torch torchvision\n",
        "!pip uninstall torch_xla\n",
        "#!pip install cloud-tpu-client==0.10 torch==1.13.0 https://storage.googleapis.com/pytorch-xla-releases/wheels/xrt/tpuvm/torch_xla-2.1.0%2Bxrt-cp310-cp310-manylinux_2_28_x86_64.whl\n",
        "!pip install https://storage.googleapis.com/pytorch-xla-releases/wheels/xrt/tpuvm/torch_xla-2.1.0%2Bxrt-cp310-cp310-manylinux_2_28_x86_64.whl\n",
        "#!pip install torch_xla[tpu] -f https://storage.googleapis.com/pytorch-xla-releases/wheels/tpuvm/torch_xla-2.2.0-cp310-cp310-manylinux_2_28_x86_64.whl"
      ],
      "metadata": {
        "id": "-iY2UoTiNcLY",
        "outputId": "1cd300c7-50e1-4d30-f70f-4565d3772b0f",
        "colab": {
          "base_uri": "https://localhost:8080/"
        }
      },
      "id": "-iY2UoTiNcLY",
      "execution_count": 6,
      "outputs": [
        {
          "output_type": "stream",
          "name": "stdout",
          "text": [
            "Found existing installation: torch-xla 2.1.0+xrt\n",
            "Uninstalling torch-xla-2.1.0+xrt:\n",
            "  Would remove:\n",
            "    /usr/local/bin/stablehlo-to-saved-model\n",
            "    /usr/local/lib/python3.10/dist-packages/_XLAC.cpython-310-x86_64-linux-gnu.so\n",
            "    /usr/local/lib/python3.10/dist-packages/torch_xla-2.1.0+xrt.dist-info/*\n",
            "    /usr/local/lib/python3.10/dist-packages/torch_xla/*\n",
            "Proceed (Y/n)? Y\n",
            "  Successfully uninstalled torch-xla-2.1.0+xrt\n",
            "Collecting torch-xla==2.1.0+xrt\n",
            "  Using cached https://storage.googleapis.com/pytorch-xla-releases/wheels/xrt/tpuvm/torch_xla-2.1.0%2Bxrt-cp310-cp310-manylinux_2_28_x86_64.whl (230.4 MB)\n",
            "Requirement already satisfied: absl-py>=1.0.0 in /usr/local/lib/python3.10/dist-packages (from torch-xla==2.1.0+xrt) (1.4.0)\n",
            "Requirement already satisfied: cloud-tpu-client>=0.10.0 in /usr/local/lib/python3.10/dist-packages (from torch-xla==2.1.0+xrt) (0.10)\n",
            "Requirement already satisfied: pyyaml in /usr/local/lib/python3.10/dist-packages (from torch-xla==2.1.0+xrt) (6.0.1)\n",
            "Requirement already satisfied: google-api-python-client==1.8.0 in /usr/local/lib/python3.10/dist-packages (from cloud-tpu-client>=0.10.0->torch-xla==2.1.0+xrt) (1.8.0)\n",
            "Requirement already satisfied: oauth2client in /usr/local/lib/python3.10/dist-packages (from cloud-tpu-client>=0.10.0->torch-xla==2.1.0+xrt) (4.1.3)\n",
            "Requirement already satisfied: httplib2<1dev,>=0.9.2 in /usr/local/lib/python3.10/dist-packages (from google-api-python-client==1.8.0->cloud-tpu-client>=0.10.0->torch-xla==2.1.0+xrt) (0.22.0)\n",
            "Requirement already satisfied: google-auth>=1.4.1 in /usr/local/lib/python3.10/dist-packages (from google-api-python-client==1.8.0->cloud-tpu-client>=0.10.0->torch-xla==2.1.0+xrt) (2.27.0)\n",
            "Requirement already satisfied: google-auth-httplib2>=0.0.3 in /usr/local/lib/python3.10/dist-packages (from google-api-python-client==1.8.0->cloud-tpu-client>=0.10.0->torch-xla==2.1.0+xrt) (0.2.0)\n",
            "Requirement already satisfied: google-api-core<2dev,>=1.13.0 in /usr/local/lib/python3.10/dist-packages (from google-api-python-client==1.8.0->cloud-tpu-client>=0.10.0->torch-xla==2.1.0+xrt) (1.34.1)\n",
            "Requirement already satisfied: six<2dev,>=1.6.1 in /usr/local/lib/python3.10/dist-packages (from google-api-python-client==1.8.0->cloud-tpu-client>=0.10.0->torch-xla==2.1.0+xrt) (1.16.0)\n",
            "Requirement already satisfied: uritemplate<4dev,>=3.0.0 in /usr/local/lib/python3.10/dist-packages (from google-api-python-client==1.8.0->cloud-tpu-client>=0.10.0->torch-xla==2.1.0+xrt) (3.0.1)\n",
            "Requirement already satisfied: pyasn1>=0.1.7 in /usr/local/lib/python3.10/dist-packages (from oauth2client->cloud-tpu-client>=0.10.0->torch-xla==2.1.0+xrt) (0.6.0)\n",
            "Requirement already satisfied: pyasn1-modules>=0.0.5 in /usr/local/lib/python3.10/dist-packages (from oauth2client->cloud-tpu-client>=0.10.0->torch-xla==2.1.0+xrt) (0.4.0)\n",
            "Requirement already satisfied: rsa>=3.1.4 in /usr/local/lib/python3.10/dist-packages (from oauth2client->cloud-tpu-client>=0.10.0->torch-xla==2.1.0+xrt) (4.9)\n",
            "Requirement already satisfied: googleapis-common-protos<2.0dev,>=1.56.2 in /usr/local/lib/python3.10/dist-packages (from google-api-core<2dev,>=1.13.0->google-api-python-client==1.8.0->cloud-tpu-client>=0.10.0->torch-xla==2.1.0+xrt) (1.63.0)\n",
            "Requirement already satisfied: protobuf!=3.20.0,!=3.20.1,!=4.21.0,!=4.21.1,!=4.21.2,!=4.21.3,!=4.21.4,!=4.21.5,<4.0.0dev,>=3.19.5 in /usr/local/lib/python3.10/dist-packages (from google-api-core<2dev,>=1.13.0->google-api-python-client==1.8.0->cloud-tpu-client>=0.10.0->torch-xla==2.1.0+xrt) (3.20.3)\n",
            "Requirement already satisfied: requests<3.0.0dev,>=2.18.0 in /usr/local/lib/python3.10/dist-packages (from google-api-core<2dev,>=1.13.0->google-api-python-client==1.8.0->cloud-tpu-client>=0.10.0->torch-xla==2.1.0+xrt) (2.31.0)\n",
            "Requirement already satisfied: cachetools<6.0,>=2.0.0 in /usr/local/lib/python3.10/dist-packages (from google-auth>=1.4.1->google-api-python-client==1.8.0->cloud-tpu-client>=0.10.0->torch-xla==2.1.0+xrt) (5.3.3)\n",
            "Requirement already satisfied: pyparsing!=3.0.0,!=3.0.1,!=3.0.2,!=3.0.3,<4,>=2.4.2 in /usr/local/lib/python3.10/dist-packages (from httplib2<1dev,>=0.9.2->google-api-python-client==1.8.0->cloud-tpu-client>=0.10.0->torch-xla==2.1.0+xrt) (3.1.2)\n",
            "Requirement already satisfied: charset-normalizer<4,>=2 in /usr/local/lib/python3.10/dist-packages (from requests<3.0.0dev,>=2.18.0->google-api-core<2dev,>=1.13.0->google-api-python-client==1.8.0->cloud-tpu-client>=0.10.0->torch-xla==2.1.0+xrt) (3.3.2)\n",
            "Requirement already satisfied: idna<4,>=2.5 in /usr/local/lib/python3.10/dist-packages (from requests<3.0.0dev,>=2.18.0->google-api-core<2dev,>=1.13.0->google-api-python-client==1.8.0->cloud-tpu-client>=0.10.0->torch-xla==2.1.0+xrt) (3.7)\n",
            "Requirement already satisfied: urllib3<3,>=1.21.1 in /usr/local/lib/python3.10/dist-packages (from requests<3.0.0dev,>=2.18.0->google-api-core<2dev,>=1.13.0->google-api-python-client==1.8.0->cloud-tpu-client>=0.10.0->torch-xla==2.1.0+xrt) (2.0.7)\n",
            "Requirement already satisfied: certifi>=2017.4.17 in /usr/local/lib/python3.10/dist-packages (from requests<3.0.0dev,>=2.18.0->google-api-core<2dev,>=1.13.0->google-api-python-client==1.8.0->cloud-tpu-client>=0.10.0->torch-xla==2.1.0+xrt) (2024.2.2)\n",
            "Installing collected packages: torch-xla\n",
            "Successfully installed torch-xla-2.1.0+xrt\n"
          ]
        }
      ]
    },
    {
      "cell_type": "code",
      "source": [
        "#!pip install torch-xla"
      ],
      "metadata": {
        "id": "Jjqm20LzRzje",
        "outputId": "3b6cb3b6-b9fb-4b12-dc7d-3baa342415ab",
        "colab": {
          "base_uri": "https://localhost:8080/"
        }
      },
      "id": "Jjqm20LzRzje",
      "execution_count": 5,
      "outputs": [
        {
          "output_type": "stream",
          "name": "stdout",
          "text": [
            "Requirement already satisfied: torch-xla in /usr/local/lib/python3.10/dist-packages (2.1.0+xrt)\n",
            "Requirement already satisfied: absl-py>=1.0.0 in /usr/local/lib/python3.10/dist-packages (from torch-xla) (1.4.0)\n",
            "Requirement already satisfied: cloud-tpu-client>=0.10.0 in /usr/local/lib/python3.10/dist-packages (from torch-xla) (0.10)\n",
            "Requirement already satisfied: pyyaml in /usr/local/lib/python3.10/dist-packages (from torch-xla) (6.0.1)\n",
            "Requirement already satisfied: google-api-python-client==1.8.0 in /usr/local/lib/python3.10/dist-packages (from cloud-tpu-client>=0.10.0->torch-xla) (1.8.0)\n",
            "Requirement already satisfied: oauth2client in /usr/local/lib/python3.10/dist-packages (from cloud-tpu-client>=0.10.0->torch-xla) (4.1.3)\n",
            "Requirement already satisfied: httplib2<1dev,>=0.9.2 in /usr/local/lib/python3.10/dist-packages (from google-api-python-client==1.8.0->cloud-tpu-client>=0.10.0->torch-xla) (0.22.0)\n",
            "Requirement already satisfied: google-auth>=1.4.1 in /usr/local/lib/python3.10/dist-packages (from google-api-python-client==1.8.0->cloud-tpu-client>=0.10.0->torch-xla) (2.27.0)\n",
            "Requirement already satisfied: google-auth-httplib2>=0.0.3 in /usr/local/lib/python3.10/dist-packages (from google-api-python-client==1.8.0->cloud-tpu-client>=0.10.0->torch-xla) (0.2.0)\n",
            "Requirement already satisfied: google-api-core<2dev,>=1.13.0 in /usr/local/lib/python3.10/dist-packages (from google-api-python-client==1.8.0->cloud-tpu-client>=0.10.0->torch-xla) (1.34.1)\n",
            "Requirement already satisfied: six<2dev,>=1.6.1 in /usr/local/lib/python3.10/dist-packages (from google-api-python-client==1.8.0->cloud-tpu-client>=0.10.0->torch-xla) (1.16.0)\n",
            "Requirement already satisfied: uritemplate<4dev,>=3.0.0 in /usr/local/lib/python3.10/dist-packages (from google-api-python-client==1.8.0->cloud-tpu-client>=0.10.0->torch-xla) (3.0.1)\n",
            "Requirement already satisfied: pyasn1>=0.1.7 in /usr/local/lib/python3.10/dist-packages (from oauth2client->cloud-tpu-client>=0.10.0->torch-xla) (0.6.0)\n",
            "Requirement already satisfied: pyasn1-modules>=0.0.5 in /usr/local/lib/python3.10/dist-packages (from oauth2client->cloud-tpu-client>=0.10.0->torch-xla) (0.4.0)\n",
            "Requirement already satisfied: rsa>=3.1.4 in /usr/local/lib/python3.10/dist-packages (from oauth2client->cloud-tpu-client>=0.10.0->torch-xla) (4.9)\n",
            "Requirement already satisfied: googleapis-common-protos<2.0dev,>=1.56.2 in /usr/local/lib/python3.10/dist-packages (from google-api-core<2dev,>=1.13.0->google-api-python-client==1.8.0->cloud-tpu-client>=0.10.0->torch-xla) (1.63.0)\n",
            "Requirement already satisfied: protobuf!=3.20.0,!=3.20.1,!=4.21.0,!=4.21.1,!=4.21.2,!=4.21.3,!=4.21.4,!=4.21.5,<4.0.0dev,>=3.19.5 in /usr/local/lib/python3.10/dist-packages (from google-api-core<2dev,>=1.13.0->google-api-python-client==1.8.0->cloud-tpu-client>=0.10.0->torch-xla) (3.20.3)\n",
            "Requirement already satisfied: requests<3.0.0dev,>=2.18.0 in /usr/local/lib/python3.10/dist-packages (from google-api-core<2dev,>=1.13.0->google-api-python-client==1.8.0->cloud-tpu-client>=0.10.0->torch-xla) (2.31.0)\n",
            "Requirement already satisfied: cachetools<6.0,>=2.0.0 in /usr/local/lib/python3.10/dist-packages (from google-auth>=1.4.1->google-api-python-client==1.8.0->cloud-tpu-client>=0.10.0->torch-xla) (5.3.3)\n",
            "Requirement already satisfied: pyparsing!=3.0.0,!=3.0.1,!=3.0.2,!=3.0.3,<4,>=2.4.2 in /usr/local/lib/python3.10/dist-packages (from httplib2<1dev,>=0.9.2->google-api-python-client==1.8.0->cloud-tpu-client>=0.10.0->torch-xla) (3.1.2)\n",
            "Requirement already satisfied: charset-normalizer<4,>=2 in /usr/local/lib/python3.10/dist-packages (from requests<3.0.0dev,>=2.18.0->google-api-core<2dev,>=1.13.0->google-api-python-client==1.8.0->cloud-tpu-client>=0.10.0->torch-xla) (3.3.2)\n",
            "Requirement already satisfied: idna<4,>=2.5 in /usr/local/lib/python3.10/dist-packages (from requests<3.0.0dev,>=2.18.0->google-api-core<2dev,>=1.13.0->google-api-python-client==1.8.0->cloud-tpu-client>=0.10.0->torch-xla) (3.7)\n",
            "Requirement already satisfied: urllib3<3,>=1.21.1 in /usr/local/lib/python3.10/dist-packages (from requests<3.0.0dev,>=2.18.0->google-api-core<2dev,>=1.13.0->google-api-python-client==1.8.0->cloud-tpu-client>=0.10.0->torch-xla) (2.0.7)\n",
            "Requirement already satisfied: certifi>=2017.4.17 in /usr/local/lib/python3.10/dist-packages (from requests<3.0.0dev,>=2.18.0->google-api-core<2dev,>=1.13.0->google-api-python-client==1.8.0->cloud-tpu-client>=0.10.0->torch-xla) (2024.2.2)\n"
          ]
        }
      ]
    },
    {
      "cell_type": "code",
      "source": [
        "#!pip install torch torchvision\n",
        "!pip install torch torchvision -f https://download.pytorch.org/whl/torch_stable.html"
      ],
      "metadata": {
        "id": "-M5sxmBbPqI_",
        "outputId": "a867225c-561f-4467-ed5d-2308322587ff",
        "colab": {
          "base_uri": "https://localhost:8080/"
        }
      },
      "id": "-M5sxmBbPqI_",
      "execution_count": 3,
      "outputs": [
        {
          "output_type": "stream",
          "name": "stdout",
          "text": [
            "Looking in links: https://download.pytorch.org/whl/torch_stable.html\n",
            "Requirement already satisfied: torch in /usr/local/lib/python3.10/dist-packages (2.2.0)\n",
            "Requirement already satisfied: torchvision in /usr/local/lib/python3.10/dist-packages (0.17.0+cpu)\n",
            "Requirement already satisfied: filelock in /usr/local/lib/python3.10/dist-packages (from torch) (3.13.4)\n",
            "Requirement already satisfied: typing-extensions>=4.8.0 in /usr/local/lib/python3.10/dist-packages (from torch) (4.11.0)\n",
            "Requirement already satisfied: sympy in /usr/local/lib/python3.10/dist-packages (from torch) (1.12)\n",
            "Requirement already satisfied: networkx in /usr/local/lib/python3.10/dist-packages (from torch) (3.3)\n",
            "Requirement already satisfied: jinja2 in /usr/local/lib/python3.10/dist-packages (from torch) (3.1.3)\n",
            "Requirement already satisfied: fsspec in /usr/local/lib/python3.10/dist-packages (from torch) (2024.3.1)\n",
            "Requirement already satisfied: nvidia-cuda-nvrtc-cu12==12.1.105 in /usr/local/lib/python3.10/dist-packages (from torch) (12.1.105)\n",
            "Requirement already satisfied: nvidia-cuda-runtime-cu12==12.1.105 in /usr/local/lib/python3.10/dist-packages (from torch) (12.1.105)\n",
            "Requirement already satisfied: nvidia-cuda-cupti-cu12==12.1.105 in /usr/local/lib/python3.10/dist-packages (from torch) (12.1.105)\n",
            "Requirement already satisfied: nvidia-cudnn-cu12==8.9.2.26 in /usr/local/lib/python3.10/dist-packages (from torch) (8.9.2.26)\n",
            "Requirement already satisfied: nvidia-cublas-cu12==12.1.3.1 in /usr/local/lib/python3.10/dist-packages (from torch) (12.1.3.1)\n",
            "Requirement already satisfied: nvidia-cufft-cu12==11.0.2.54 in /usr/local/lib/python3.10/dist-packages (from torch) (11.0.2.54)\n",
            "Requirement already satisfied: nvidia-curand-cu12==10.3.2.106 in /usr/local/lib/python3.10/dist-packages (from torch) (10.3.2.106)\n",
            "Requirement already satisfied: nvidia-cusolver-cu12==11.4.5.107 in /usr/local/lib/python3.10/dist-packages (from torch) (11.4.5.107)\n",
            "Requirement already satisfied: nvidia-cusparse-cu12==12.1.0.106 in /usr/local/lib/python3.10/dist-packages (from torch) (12.1.0.106)\n",
            "Requirement already satisfied: nvidia-nccl-cu12==2.19.3 in /usr/local/lib/python3.10/dist-packages (from torch) (2.19.3)\n",
            "Requirement already satisfied: nvidia-nvtx-cu12==12.1.105 in /usr/local/lib/python3.10/dist-packages (from torch) (12.1.105)\n",
            "Requirement already satisfied: triton==2.2.0 in /usr/local/lib/python3.10/dist-packages (from torch) (2.2.0)\n",
            "Requirement already satisfied: nvidia-nvjitlink-cu12 in /usr/local/lib/python3.10/dist-packages (from nvidia-cusolver-cu12==11.4.5.107->torch) (12.4.127)\n",
            "Requirement already satisfied: numpy in /usr/local/lib/python3.10/dist-packages (from torchvision) (1.25.2)\n",
            "Requirement already satisfied: requests in /usr/local/lib/python3.10/dist-packages (from torchvision) (2.31.0)\n",
            "Requirement already satisfied: pillow!=8.3.*,>=5.3.0 in /usr/local/lib/python3.10/dist-packages (from torchvision) (10.3.0)\n",
            "Requirement already satisfied: MarkupSafe>=2.0 in /usr/local/lib/python3.10/dist-packages (from jinja2->torch) (2.1.5)\n",
            "Requirement already satisfied: charset-normalizer<4,>=2 in /usr/local/lib/python3.10/dist-packages (from requests->torchvision) (3.3.2)\n",
            "Requirement already satisfied: idna<4,>=2.5 in /usr/local/lib/python3.10/dist-packages (from requests->torchvision) (3.7)\n",
            "Requirement already satisfied: urllib3<3,>=1.21.1 in /usr/local/lib/python3.10/dist-packages (from requests->torchvision) (2.0.7)\n",
            "Requirement already satisfied: certifi>=2017.4.17 in /usr/local/lib/python3.10/dist-packages (from requests->torchvision) (2024.2.2)\n",
            "Requirement already satisfied: mpmath>=0.19 in /usr/local/lib/python3.10/dist-packages (from sympy->torch) (1.3.0)\n"
          ]
        }
      ]
    },
    {
      "cell_type": "code",
      "source": [
        "#added this line because for some reason after reorganising the code 'torch._custom_ops'\n",
        "# cannot be found\n",
        "#!pip install torch-scatter -f https://pytorch-geometric.com/whl/torch-1.13.1+cu117.html"
      ],
      "metadata": {
        "id": "uM7aAR1mOSG5",
        "outputId": "a38abd68-a4d9-464e-cbc9-a5a4c50cac55",
        "colab": {
          "base_uri": "https://localhost:8080/"
        }
      },
      "id": "uM7aAR1mOSG5",
      "execution_count": 5,
      "outputs": [
        {
          "output_type": "stream",
          "name": "stdout",
          "text": [
            "Looking in links: https://pytorch-geometric.com/whl/torch-1.13.1+cu117.html\n",
            "Collecting torch-scatter\n",
            "  Downloading torch_scatter-2.1.2.tar.gz (108 kB)\n",
            "\u001b[2K     \u001b[90m━━━━━━━━━━━━━━━━━━━━━━━━━━━━━━━━━━━━━━━━\u001b[0m \u001b[32m108.0/108.0 kB\u001b[0m \u001b[31m1.2 MB/s\u001b[0m eta \u001b[36m0:00:00\u001b[0m\n",
            "\u001b[?25h  Preparing metadata (setup.py) ... \u001b[?25l\u001b[?25hdone\n",
            "Building wheels for collected packages: torch-scatter\n",
            "  Building wheel for torch-scatter (setup.py) ... \u001b[?25l\u001b[?25hdone\n",
            "  Created wheel for torch-scatter: filename=torch_scatter-2.1.2-cp310-cp310-linux_x86_64.whl size=486474 sha256=d120238bfb6fdd911f4eac2a63a0a5fa3048b58aaf3c52197c7887212c52fa1d\n",
            "  Stored in directory: /root/.cache/pip/wheels/92/f1/2b/3b46d54b134259f58c8363568569053248040859b1a145b3ce\n",
            "Successfully built torch-scatter\n",
            "Installing collected packages: torch-scatter\n",
            "Successfully installed torch-scatter-2.1.2\n"
          ]
        }
      ]
    },
    {
      "cell_type": "code",
      "source": [
        "!git clone https://github.com/Alberknyis/bad-teaching-unlearning.git"
      ],
      "metadata": {
        "id": "7Ww4ISl7L_EX",
        "outputId": "fa9d8a5e-09b1-4e52-a8f8-64ae1a79db56",
        "colab": {
          "base_uri": "https://localhost:8080/"
        }
      },
      "id": "7Ww4ISl7L_EX",
      "execution_count": 2,
      "outputs": [
        {
          "output_type": "stream",
          "name": "stdout",
          "text": [
            "Cloning into 'bad-teaching-unlearning'...\n",
            "remote: Enumerating objects: 15, done.\u001b[K\n",
            "remote: Counting objects: 100% (15/15), done.\u001b[K\n",
            "remote: Compressing objects: 100% (15/15), done.\u001b[K\n",
            "remote: Total 15 (delta 3), reused 0 (delta 0), pack-reused 0\u001b[K\n",
            "Receiving objects: 100% (15/15), 20.65 KiB | 20.65 MiB/s, done.\n",
            "Resolving deltas: 100% (3/3), done.\n"
          ]
        }
      ]
    },
    {
      "cell_type": "code",
      "source": [
        "import sys\n",
        "sys.path.insert(0,'/content/bad-teaching-unlearning')"
      ],
      "metadata": {
        "id": "AOgGPqXCMbCG"
      },
      "id": "AOgGPqXCMbCG",
      "execution_count": 4,
      "outputs": []
    },
    {
      "cell_type": "code",
      "execution_count": 5,
      "metadata": {
        "id": "4RuRwnkMLxQU"
      },
      "outputs": [],
      "source": [
        "import torch\n",
        "\n",
        "from dataset import *\n",
        "from model import ResNet18\n",
        "from unlearn import *\n",
        "from metrics import UnLearningScore\n",
        "from utils import *\n",
        "from torch.utils.data import DataLoader"
      ],
      "id": "4RuRwnkMLxQU"
    },
    {
      "cell_type": "code",
      "source": [
        "#import torch_xla\n",
        "import torch_xla.core.xla_model as xm\n",
        "device = xm.xla_device()"
      ],
      "metadata": {
        "id": "l9GK5GMUNxKg"
      },
      "id": "l9GK5GMUNxKg",
      "execution_count": 2,
      "outputs": []
    },
    {
      "cell_type": "code",
      "execution_count": null,
      "metadata": {
        "id": "oiFkNpajLxQV",
        "outputId": "e37d369b-b6f6-4cf3-bcce-9b1324500f82",
        "colab": {
          "base_uri": "https://localhost:8080/"
        }
      },
      "outputs": [
        {
          "output_type": "stream",
          "name": "stdout",
          "text": [
            "Files already downloaded and verified\n",
            "Files already downloaded and verified\n"
          ]
        }
      ],
      "source": [
        "train_ds = CustomCIFAR100(root='.', train=True,download=True, transform=transform_train)\n",
        "valid_ds = CustomCIFAR100(root='.', train=False,download=True, transform=transform_train)\n",
        "\n",
        "#batch_size = 256\n",
        "batch_size = 128\n",
        "#train_dl = DataLoader(train_ds, batch_size, shuffle=True, num_workers=32, pin_memory=True)\n",
        "#valid_dl = DataLoader(valid_ds, batch_size, num_workers=32, pin_memory=True)\n",
        "\n",
        "train_dl = DataLoader(train_ds, batch_size, shuffle=True, num_workers=8, pin_memory=True)\n",
        "valid_dl = DataLoader(valid_ds, batch_size, num_workers=8, pin_memory=True)"
      ],
      "id": "oiFkNpajLxQV"
    },
    {
      "cell_type": "code",
      "execution_count": null,
      "metadata": {
        "id": "ecAGxSh7LxQW"
      },
      "outputs": [],
      "source": [
        "num_classes = 100\n",
        "classwise_train = {}\n",
        "for i in range(num_classes):\n",
        "    classwise_train[i] = []\n",
        "\n",
        "for img, label, clabel in train_ds:\n",
        "    classwise_train[label].append((img, label, clabel))\n",
        "\n",
        "classwise_test = {}\n",
        "for i in range(num_classes):\n",
        "    classwise_test[i] = []\n",
        "\n",
        "for img, label, clabel in valid_ds:\n",
        "    classwise_test[label].append((img, label, clabel))"
      ],
      "id": "ecAGxSh7LxQW"
    },
    {
      "cell_type": "code",
      "source": [
        "!nvidia-smi"
      ],
      "metadata": {
        "id": "4a7XOCBZXCSH",
        "outputId": "c5bd07b2-fb48-4b93-9a38-33291c152200",
        "colab": {
          "base_uri": "https://localhost:8080/"
        }
      },
      "id": "4a7XOCBZXCSH",
      "execution_count": null,
      "outputs": [
        {
          "output_type": "stream",
          "name": "stdout",
          "text": [
            "/bin/bash: line 1: nvidia-smi: command not found\n"
          ]
        }
      ]
    },
    {
      "cell_type": "code",
      "execution_count": null,
      "metadata": {
        "id": "jQO26KwQLxQX",
        "outputId": "51c4ca82-4510-4d30-c1cb-51a84b7dafef",
        "colab": {
          "base_uri": "https://localhost:8080/"
        }
      },
      "outputs": [
        {
          "metadata": {
            "tags": null
          },
          "name": "stderr",
          "output_type": "stream",
          "text": [
            "/usr/local/lib/python3.10/dist-packages/torchvision/models/_utils.py:208: UserWarning: The parameter 'pretrained' is deprecated since 0.13 and may be removed in the future, please use 'weights' instead.\n",
            "  warnings.warn(\n",
            "/usr/local/lib/python3.10/dist-packages/torchvision/models/_utils.py:223: UserWarning: Arguments other than a weight enum or `None` for 'weights' are deprecated since 0.13 and may be removed in the future. The current behavior is equivalent to passing `weights=ResNet18_Weights.IMAGENET1K_V1`. You can also use `weights=ResNet18_Weights.DEFAULT` to get the most up-to-date weights.\n",
            "  warnings.warn(msg)\n",
            "/usr/local/lib/python3.10/dist-packages/torch/optim/lr_scheduler.py:28: UserWarning: The verbose parameter is deprecated. Please use get_last_lr() to access the learning rate.\n",
            "  warnings.warn(\"The verbose parameter is deprecated. Please use get_last_lr() \"\n"
          ]
        },
        {
          "output_type": "stream",
          "name": "stdout",
          "text": [
            "Epoch [0], last_lr: 0.00100, train_loss: 1.5478, val_loss: 1.1481, val_acc: 65.2888\n",
            "Epoch [1], last_lr: 0.00100, train_loss: 0.9877, val_loss: 1.1603, val_acc: 65.3382\n",
            "Epoch [2], last_lr: 0.00100, train_loss: 0.7242, val_loss: 0.8278, val_acc: 74.5451\n",
            "Epoch [3], last_lr: 0.00100, train_loss: 0.5715, val_loss: 1.0165, val_acc: 73.9122\n",
            "Epoch [4], last_lr: 0.00100, train_loss: 0.5016, val_loss: 0.9536, val_acc: 73.0815\n"
          ]
        }
      ],
      "source": [
        "# train the model\n",
        "#device = 'cuda'\n",
        "model = ResNet18(num_classes = 20, pretrained = True).to(device)\n",
        "epochs = 5\n",
        "history = fit_one_cycle(epochs, model, train_dl, valid_dl, device = device)\n",
        "#torch.save(model.state_dict(), \"ResNET18_CIFAR100Super20_Pretrained_ALL_CLASSES_5_Epochs.pt\")"
      ],
      "id": "jQO26KwQLxQX"
    },
    {
      "cell_type": "code",
      "source": [
        "torch.cuda.is_available()"
      ],
      "metadata": {
        "id": "vlfvQWQtkfR2",
        "outputId": "9e67f947-e872-4b6f-a48f-03cebc717099",
        "colab": {
          "base_uri": "https://localhost:8080/"
        }
      },
      "id": "vlfvQWQtkfR2",
      "execution_count": null,
      "outputs": [
        {
          "output_type": "execute_result",
          "data": {
            "text/plain": [
              "False"
            ]
          },
          "metadata": {},
          "execution_count": 7
        }
      ]
    },
    {
      "cell_type": "code",
      "execution_count": null,
      "metadata": {
        "id": "mZIHWa1iLxQY",
        "outputId": "f9cbc8eb-d15e-4204-ae64-3256ac31d8be"
      },
      "outputs": [
        {
          "data": {
            "text/plain": [
              "<All keys matched successfully>"
            ]
          },
          "execution_count": 4,
          "metadata": {},
          "output_type": "execute_result"
        }
      ],
      "source": [
        "# load the trained model\n",
        "device = 'cuda'\n",
        "model = ResNet18(num_classes = 20, pretrained = True).to(device)\n",
        "model.load_state_dict(torch.load(\"ResNET18_CIFAR100Super20_Pretrained_ALL_CLASSES_5_Epochs.pt\", map_location='cuda'))"
      ],
      "id": "mZIHWa1iLxQY"
    },
    {
      "cell_type": "markdown",
      "metadata": {
        "id": "Omi8QF8pLxQY"
      },
      "source": [
        "# Forgetting Rocket\n",
        "The Rocket is class 69 in CIFAR100 and belongs to Super Class 19 (Vehicles) in CIFAR Super 20."
      ],
      "id": "Omi8QF8pLxQY"
    },
    {
      "cell_type": "code",
      "execution_count": null,
      "metadata": {
        "id": "w4JCNgjvLxQa"
      },
      "outputs": [],
      "source": [
        "# Getting the forget and retain validation data\n",
        "forget_valid = []\n",
        "forget_classes = [69]\n",
        "for cls in range(num_classes):\n",
        "    if cls in forget_classes:\n",
        "        for img, label, clabel in classwise_test[cls]:\n",
        "            forget_valid.append((img, label, clabel))\n",
        "\n",
        "retain_valid = []\n",
        "for cls in range(num_classes):\n",
        "    if cls not in forget_classes:\n",
        "        for img, label, clabel in classwise_test[cls]:\n",
        "            retain_valid.append((img, label, clabel))\n",
        "\n",
        "forget_train = []\n",
        "for cls in range(num_classes):\n",
        "    if cls in forget_classes:\n",
        "        for img, label, clabel in classwise_train[cls]:\n",
        "            forget_train.append((img, label, clabel))\n",
        "\n",
        "retain_train = []\n",
        "for cls in range(num_classes):\n",
        "    if cls not in forget_classes:\n",
        "        for img, label, clabel in classwise_train[cls]:\n",
        "            retain_train.append((img, label, clabel))\n",
        "\n",
        "forget_valid_dl = DataLoader(forget_valid, batch_size, num_workers=32, pin_memory=True)\n",
        "\n",
        "retain_valid_dl = DataLoader(retain_valid, batch_size, num_workers=32, pin_memory=True)\n",
        "\n",
        "forget_train_dl = DataLoader(forget_train, batch_size, num_workers=32, pin_memory=True)\n",
        "retain_train_dl = DataLoader(retain_train, batch_size, num_workers=32, pin_memory=True, shuffle = True)\n",
        "import random\n",
        "retain_train_subset = random.sample(retain_train, int(0.3*len(retain_train)))\n",
        "retain_train_subset_dl = DataLoader(retain_train_subset, batch_size, num_workers=32, pin_memory=True, shuffle = True)"
      ],
      "id": "w4JCNgjvLxQa"
    },
    {
      "cell_type": "code",
      "execution_count": null,
      "metadata": {
        "id": "5meBet1gLxQa",
        "outputId": "fe1a4ad8-ae08-44a4-90ee-3e2c8d040437"
      },
      "outputs": [
        {
          "data": {
            "text/plain": [
              "{'Loss': 0.535236120223999, 'Acc': 85.77934265136719}"
            ]
          },
          "execution_count": 6,
          "metadata": {},
          "output_type": "execute_result"
        }
      ],
      "source": [
        "# Performance of Fully trained model on retain set\n",
        "evaluate(model, retain_valid_dl, device)"
      ],
      "id": "5meBet1gLxQa"
    },
    {
      "cell_type": "code",
      "execution_count": null,
      "metadata": {
        "id": "rg62C1WZLxQb",
        "outputId": "14f133e0-3ca4-48c6-fc8b-9be4bb5dc55f"
      },
      "outputs": [
        {
          "data": {
            "text/plain": [
              "{'Loss': 0.5363734364509583, 'Acc': 82.0}"
            ]
          },
          "execution_count": 7,
          "metadata": {},
          "output_type": "execute_result"
        }
      ],
      "source": [
        "# Performance of Fully trained model on retain set\n",
        "evaluate(model, forget_valid_dl, device)"
      ],
      "id": "rg62C1WZLxQb"
    },
    {
      "cell_type": "markdown",
      "metadata": {
        "id": "F87VLwswLxQd"
      },
      "source": [
        "## Retrain the model from Scratch\n",
        "Create Retrained Model (Gold model). This is the model trained from scratch without forget data."
      ],
      "id": "F87VLwswLxQd"
    },
    {
      "cell_type": "code",
      "execution_count": null,
      "metadata": {
        "id": "nguWKolHLxQd"
      },
      "outputs": [],
      "source": [
        "device = 'cuda'\n",
        "gold_model = ResNet18(num_classes = 20, pretrained = True).to(device)\n",
        "epochs = 5\n",
        "history = fit_one_cycle(epochs, gold_model, retain_train_dl, retain_valid_dl, device = device)\n",
        "torch.save(gold_model.state_dict(), \"ResNET18_CIFAR100Super20_Pretrained_Gold_Class69_5_Epochs.pt\")"
      ],
      "id": "nguWKolHLxQd"
    },
    {
      "cell_type": "code",
      "execution_count": null,
      "metadata": {
        "id": "7WKjB2CYLxQe",
        "outputId": "172f8994-c862-48a7-e793-a27b5fcd3851"
      },
      "outputs": [
        {
          "data": {
            "text/plain": [
              "<All keys matched successfully>"
            ]
          },
          "execution_count": 8,
          "metadata": {},
          "output_type": "execute_result"
        }
      ],
      "source": [
        "device = 'cuda'\n",
        "gold_model = ResNet18(num_classes = 20, pretrained = True).to(device)\n",
        "gold_model.load_state_dict(torch.load(\"ResNET18_CIFAR100Super20_Pretrained_Gold_Class69_5_Epochs.pt\", map_location=device))"
      ],
      "id": "7WKjB2CYLxQe"
    },
    {
      "cell_type": "code",
      "execution_count": null,
      "metadata": {
        "id": "Kcrbv0IyLxQf",
        "outputId": "023ff37b-dcdb-44eb-e6ee-e25ca9582786"
      },
      "outputs": [
        {
          "data": {
            "text/plain": [
              "{'Loss': 7.545389175415039, 'Acc': 3.0}"
            ]
          },
          "execution_count": 9,
          "metadata": {},
          "output_type": "execute_result"
        }
      ],
      "source": [
        "# evaluate gold model on forget set\n",
        "evaluate(gold_model, forget_valid_dl, device)"
      ],
      "id": "Kcrbv0IyLxQf"
    },
    {
      "cell_type": "code",
      "execution_count": null,
      "metadata": {
        "id": "uJcEcEhJLxQf",
        "outputId": "123defe7-f712-4b57-8aea-366883837ac4"
      },
      "outputs": [
        {
          "data": {
            "text/plain": [
              "{'Loss': 0.5325239896774292, 'Acc': 85.76885223388672}"
            ]
          },
          "execution_count": 10,
          "metadata": {},
          "output_type": "execute_result"
        }
      ],
      "source": [
        "# evaluate gold model on retain set\n",
        "evaluate(gold_model, retain_valid_dl, device)"
      ],
      "id": "uJcEcEhJLxQf"
    },
    {
      "cell_type": "markdown",
      "metadata": {
        "id": "KMNspfHQLxQg"
      },
      "source": [
        "## UnLearning via proposed method"
      ],
      "id": "KMNspfHQLxQg"
    },
    {
      "cell_type": "code",
      "execution_count": null,
      "metadata": {
        "id": "ZVjSX9p4LxQh",
        "outputId": "7b3f86bc-d11a-4ce6-828b-9eae8fd48904"
      },
      "outputs": [
        {
          "name": "stderr",
          "output_type": "stream",
          "text": [
            "/home/users/visionintelligence/Vikram/anaconda3/lib/python3.9/site-packages/torch/nn/functional.py:2747: UserWarning: reduction: 'mean' divides the total loss by both the batch size and the support size.'batchmean' divides only by the batch size, and aligns with the KL div math definition.'mean' will be changed to behave the same as 'batchmean' in the next major release.\n",
            "  warnings.warn(\n"
          ]
        },
        {
          "name": "stdout",
          "output_type": "stream",
          "text": [
            "Epoch 1 Unlearning Loss 0.004115822724997997\n"
          ]
        }
      ],
      "source": [
        "device = 'cuda'\n",
        "unlearning_teacher = ResNet18(num_classes = 20, pretrained = False).to(device).eval()\n",
        "student_model = ResNet18(num_classes = 20, pretrained = False).to(device)\n",
        "student_model.load_state_dict(torch.load(\"ResNET18_CIFAR100Super20_Pretrained_ALL_CLASSES_5_Epochs.pt\", map_location = device))\n",
        "model = model.eval()\n",
        "\n",
        "KL_temperature = 1\n",
        "\n",
        "optimizer = torch.optim.Adam(student_model.parameters(), lr = 0.0001)\n",
        "\n",
        "blindspot_unlearner(model = student_model, unlearning_teacher = unlearning_teacher, full_trained_teacher = model,\n",
        "          retain_data = retain_train_subset, forget_data = forget_train, epochs = 1, optimizer = optimizer, lr = 0.0001,\n",
        "          batch_size = 256, num_workers = 32, device = device, KL_temperature = KL_temperature)"
      ],
      "id": "ZVjSX9p4LxQh"
    },
    {
      "cell_type": "code",
      "execution_count": null,
      "metadata": {
        "id": "rmjRNCuWLxQh",
        "outputId": "e916fb70-26a6-401f-98d5-50a3b5934c95"
      },
      "outputs": [
        {
          "data": {
            "text/plain": [
              "{'Loss': 3.3266074657440186, 'Acc': 3.0}"
            ]
          },
          "execution_count": 12,
          "metadata": {},
          "output_type": "execute_result"
        }
      ],
      "source": [
        "# performance of unlearned model on forget set\n",
        "evaluate(student_model, forget_valid_dl, device)"
      ],
      "id": "rmjRNCuWLxQh"
    },
    {
      "cell_type": "code",
      "execution_count": null,
      "metadata": {
        "id": "WYme22DBLxQi",
        "outputId": "63431b78-e136-485c-94df-2fe0d1810635"
      },
      "outputs": [
        {
          "data": {
            "text/plain": [
              "{'Loss': 0.5810623168945312, 'Acc': 84.57299041748047}"
            ]
          },
          "execution_count": 13,
          "metadata": {},
          "output_type": "execute_result"
        }
      ],
      "source": [
        "# performance of unlearned model on retain set\n",
        "evaluate(student_model, retain_valid_dl, device)"
      ],
      "id": "WYme22DBLxQi"
    },
    {
      "cell_type": "markdown",
      "metadata": {
        "id": "3JxoHah0LxQi"
      },
      "source": [
        "### Measure ZRF (Unlearning Score)"
      ],
      "id": "3JxoHah0LxQi"
    },
    {
      "cell_type": "code",
      "execution_count": null,
      "metadata": {
        "id": "4Y_mU73lLxQi",
        "outputId": "ee6ff80a-c963-4010-acff-f7f07ed581e5"
      },
      "outputs": [
        {
          "name": "stdout",
          "output_type": "stream",
          "text": [
            "Initial Score: 0.8766639232635498\n",
            "Our Score: 0.99411541223526\n",
            "Gold Score: 0.9299044013023376\n",
            "JS Div: 0.04860961437225342\n"
          ]
        }
      ],
      "source": [
        "print(\"Initial Score: {}\".format(UnLearningScore(model, unlearning_teacher, forget_valid_dl, 256, 'cuda')))\n",
        "print(\"Our Score: {}\".format(UnLearningScore(student_model, unlearning_teacher, forget_valid_dl, 256, 'cuda')))\n",
        "print(\"Gold Score: {}\".format(UnLearningScore(gold_model, unlearning_teacher, forget_valid_dl, 256, 'cuda')))\n",
        "print(\"JS Div: {}\".format(1-UnLearningScore(gold_model, student_model, forget_valid_dl, 256, 'cuda')))"
      ],
      "id": "4Y_mU73lLxQi"
    },
    {
      "cell_type": "markdown",
      "metadata": {
        "id": "5uG-JoObLxQj"
      },
      "source": [
        "## Unlearning using Amnesiac unlearning"
      ],
      "id": "5uG-JoObLxQj"
    },
    {
      "cell_type": "code",
      "execution_count": null,
      "metadata": {
        "id": "fr9RVzsYLxQj"
      },
      "outputs": [],
      "source": [
        "unlearninglabels = list(range(20))\n",
        "unlearninglabels.remove(19)\n",
        "unlearning_train_set = []\n",
        "for cls in range(num_classes):\n",
        "    if cls in forget_classes:\n",
        "        for img, label, clabel in classwise_train[cls]:\n",
        "            unlearning_train_set.append((img, label, random.choice(unlearninglabels)))\n",
        "\n",
        "\n",
        "\n",
        "for cls in range(num_classes):\n",
        "    if cls not in forget_classes:\n",
        "        for img, label, clabel in classwise_train[cls]:\n",
        "            unlearning_train_set.append((img, label, clabel))"
      ],
      "id": "fr9RVzsYLxQj"
    },
    {
      "cell_type": "code",
      "execution_count": null,
      "metadata": {
        "id": "Vv9i0HTELxQj"
      },
      "outputs": [],
      "source": [
        "unlearning_train_set_dl = DataLoader(unlearning_train_set, batch_size, num_workers = 32, pin_memory = True, shuffle = True)"
      ],
      "id": "Vv9i0HTELxQj"
    },
    {
      "cell_type": "code",
      "execution_count": null,
      "metadata": {
        "id": "Fl3dyTPTLxQk",
        "outputId": "6e06e950-05e8-4e9f-ccde-d40c6577aae6"
      },
      "outputs": [
        {
          "name": "stdout",
          "output_type": "stream",
          "text": [
            "Epoch [0], last_lr: 0.00010, train_loss: 0.0953, val_loss: 0.5882, val_acc: 84.9121\n",
            "Epoch [1], last_lr: 0.00010, train_loss: 0.0638, val_loss: 0.6049, val_acc: 84.9187\n",
            "Epoch [2], last_lr: 0.00010, train_loss: 0.0413, val_loss: 0.6110, val_acc: 84.9233\n"
          ]
        }
      ],
      "source": [
        "device = 'cuda'\n",
        "student_model = ResNet18(num_classes = 20, pretrained = True).to(device)\n",
        "student_model.load_state_dict(torch.load(\"ResNET18_CIFAR100Super20_Pretrained_ALL_CLASSES_5_Epochs.pt\", map_location = 'cuda'))\n",
        "epochs = 3\n",
        "\n",
        "history = fit_one_unlearning_cycle(epochs, student_model, unlearning_train_set_dl, retain_valid_dl, device = device, lr = 0.0001)"
      ],
      "id": "Fl3dyTPTLxQk"
    },
    {
      "cell_type": "code",
      "execution_count": null,
      "metadata": {
        "id": "YLPPpFWsLxQk",
        "outputId": "b5e78cf0-3794-427d-dabe-3ef42724735f"
      },
      "outputs": [
        {
          "name": "stdout",
          "output_type": "stream",
          "text": [
            "Forget Performance: {'Loss': 4.92495059967041, 'Acc': 2.0}\n",
            "Retain Performance: {'Loss': 0.6110122799873352, 'Acc': 84.92332458496094}\n"
          ]
        }
      ],
      "source": [
        "print(\"Forget Performance: {}\".format(evaluate(student_model, forget_valid_dl, device)))\n",
        "print(\"Retain Performance: {}\".format(evaluate(student_model, retain_valid_dl, device)))"
      ],
      "id": "YLPPpFWsLxQk"
    },
    {
      "cell_type": "markdown",
      "metadata": {
        "id": "J5ZajW_PLxQl"
      },
      "source": [
        "## Unlearning using UNSIR (Class 0)"
      ],
      "id": "J5ZajW_PLxQl"
    },
    {
      "cell_type": "code",
      "execution_count": null,
      "metadata": {
        "id": "ihsPSakVLxQl"
      },
      "outputs": [],
      "source": [
        "num_classes = 20\n",
        "classwise_train = {}\n",
        "for i in range(num_classes):\n",
        "    classwise_train[i] = []\n",
        "\n",
        "for img, label, clabel in train_ds:\n",
        "    classwise_train[clabel].append((img, label, clabel))\n",
        "\n",
        "classwise_test = {}\n",
        "for i in range(num_classes):\n",
        "    classwise_test[i] = []\n",
        "\n",
        "for img, label, clabel in valid_ds:\n",
        "    classwise_test[clabel].append((img, label, clabel))"
      ],
      "id": "ihsPSakVLxQl"
    },
    {
      "cell_type": "code",
      "execution_count": null,
      "metadata": {
        "id": "HoOf6EecLxQl"
      },
      "outputs": [],
      "source": [
        "# Getting the forget and retain validation data\n",
        "forget_valid = []\n",
        "forget_classes = [0]\n",
        "for cls in range(num_classes):\n",
        "    if cls in forget_classes:\n",
        "        for img, label, clabel in classwise_test[cls]:\n",
        "            forget_valid.append((img, label, clabel))\n",
        "\n",
        "retain_valid = []\n",
        "for cls in range(num_classes):\n",
        "    if cls not in forget_classes:\n",
        "        for img, label, clabel in classwise_test[cls]:\n",
        "            retain_valid.append((img, label, clabel))\n",
        "\n",
        "forget_train = []\n",
        "for cls in range(num_classes):\n",
        "    if cls in forget_classes:\n",
        "        for img, label, clabel in classwise_train[cls]:\n",
        "            forget_train.append((img, label, clabel))\n",
        "\n",
        "retain_train = []\n",
        "for cls in range(num_classes):\n",
        "    if cls not in forget_classes:\n",
        "        for img, label, clabel in classwise_train[cls]:\n",
        "            retain_train.append((img, label, clabel))\n",
        "\n",
        "forget_valid_dl = DataLoader(forget_valid, batch_size, num_workers=32, pin_memory=True)\n",
        "\n",
        "retain_valid_dl = DataLoader(retain_valid, batch_size, num_workers=32, pin_memory=True)\n",
        "\n",
        "forget_train_dl = DataLoader(forget_train, batch_size, num_workers=32, pin_memory=True)\n",
        "retain_train_dl = DataLoader(retain_train, batch_size, num_workers=32, pin_memory=True, shuffle = True)"
      ],
      "id": "HoOf6EecLxQl"
    },
    {
      "cell_type": "code",
      "execution_count": null,
      "metadata": {
        "id": "KJxIJscnLxQl"
      },
      "outputs": [],
      "source": [
        "#collect some samples from each class\n",
        "num_samples = 500\n",
        "retain_samples = []\n",
        "for i in range(num_classes):\n",
        "    if i not in forget_classes:\n",
        "        retain_samples += classwise_train[i][:num_samples]"
      ],
      "id": "KJxIJscnLxQl"
    },
    {
      "cell_type": "code",
      "execution_count": null,
      "metadata": {
        "id": "0YVxHT4yLxQl"
      },
      "outputs": [],
      "source": [
        "noise_batch_size = 256"
      ],
      "id": "0YVxHT4yLxQl"
    },
    {
      "cell_type": "code",
      "execution_count": null,
      "metadata": {
        "id": "2WmgioLdLxQm",
        "outputId": "bd3df73e-d966-425b-9d59-8b832e94351a"
      },
      "outputs": [
        {
          "data": {
            "text/plain": [
              "<All keys matched successfully>"
            ]
          },
          "execution_count": 7,
          "metadata": {},
          "output_type": "execute_result"
        }
      ],
      "source": [
        "device = 'cuda'\n",
        "student_model = ResNet18(num_classes = 20, pretrained = False).to(device)\n",
        "student_model.load_state_dict(torch.load(\"ResNET18_CIFAR100Super20_Pretrained_ALL_CLASSES_5_Epochs.pt\", map_location = device))"
      ],
      "id": "2WmgioLdLxQm"
    },
    {
      "cell_type": "code",
      "execution_count": null,
      "metadata": {
        "id": "8sTO7xNwLxQm"
      },
      "outputs": [],
      "source": [
        "noise = UNSIR_noise(batch_size, 3, 224, 224).to(device)"
      ],
      "id": "8sTO7xNwLxQm"
    },
    {
      "cell_type": "code",
      "execution_count": null,
      "metadata": {
        "id": "8V-i307yLxQm"
      },
      "outputs": [],
      "source": [
        "forget_class_label = 0\n",
        "num_epochs = 250"
      ],
      "id": "8V-i307yLxQm"
    },
    {
      "cell_type": "code",
      "execution_count": null,
      "metadata": {
        "id": "eEsLBQgzLxQn",
        "outputId": "530c2634-d4be-411c-84a2-ccbd2aede756"
      },
      "outputs": [
        {
          "name": "stdout",
          "output_type": "stream",
          "text": [
            "Loss: 15047.9326171875\n",
            "Loss: 6428.56494140625\n",
            "Loss: 2585.14208984375\n",
            "Loss: 1118.1822509765625\n",
            "Loss: 594.6854858398438\n",
            "Loss: 380.76507568359375\n",
            "Loss: 258.22991943359375\n",
            "Loss: 175.17173767089844\n",
            "Loss: 121.2085189819336\n",
            "Loss: 86.78948974609375\n",
            "Loss: 66.66294860839844\n",
            "Loss: 56.79840087890625\n",
            "Loss: 52.446632385253906\n",
            "Loss: 48.63398742675781\n",
            "Loss: 47.29644775390625\n",
            "Loss: 46.700103759765625\n",
            "Loss: 46.97292709350586\n",
            "Loss: 46.851234436035156\n",
            "Loss: 47.27818298339844\n",
            "Loss: 47.98065185546875\n",
            "Loss: 47.55046081542969\n",
            "Loss: 48.1744270324707\n",
            "Loss: 48.738792419433594\n",
            "Loss: 49.70948791503906\n",
            "Loss: 48.98561477661133\n",
            "Loss: 49.938560485839844\n",
            "Loss: 50.545745849609375\n",
            "Loss: 49.86770248413086\n",
            "Loss: 49.83490753173828\n",
            "Loss: 50.902198791503906\n",
            "Loss: 49.465301513671875\n",
            "Loss: 50.633384704589844\n",
            "Loss: 51.02934265136719\n",
            "Loss: 50.88955307006836\n",
            "Loss: 51.475547790527344\n",
            "Loss: 52.239593505859375\n",
            "Loss: 51.24016571044922\n",
            "Loss: 51.59583282470703\n",
            "Loss: 51.716270446777344\n",
            "Loss: 51.37892532348633\n",
            "Loss: 52.572391510009766\n",
            "Loss: 52.83474349975586\n",
            "Loss: 53.65574645996094\n",
            "Loss: 52.888275146484375\n",
            "Loss: 53.729156494140625\n",
            "Loss: 54.304771423339844\n",
            "Loss: 54.037353515625\n",
            "Loss: 55.88550567626953\n",
            "Loss: 54.78221893310547\n",
            "Loss: 54.159847259521484\n"
          ]
        }
      ],
      "source": [
        "noise =  UNSIR_noise_train(noise, student_model, forget_class_label, num_epochs,\\\n",
        "                           noise_batch_size, device=device)"
      ],
      "id": "eEsLBQgzLxQn"
    },
    {
      "cell_type": "code",
      "execution_count": null,
      "metadata": {
        "id": "_DHYYyZjLxQn"
      },
      "outputs": [],
      "source": [
        "noisy_loader = UNSIR_create_noisy_loader(noise, forget_class_label\\\n",
        "                                         , retain_samples, batch_size, device=device)"
      ],
      "id": "_DHYYyZjLxQn"
    },
    {
      "cell_type": "code",
      "execution_count": null,
      "metadata": {
        "id": "MRgMcTvcLxQn",
        "outputId": "eec64586-66c4-41e2-db4b-71db7a8fcb3a"
      },
      "outputs": [
        {
          "name": "stdout",
          "output_type": "stream",
          "text": [
            "Epoch [0], last_lr: 0.00010, train_loss: 0.0222, val_loss: 0.6516, val_acc: 84.0152\n"
          ]
        }
      ],
      "source": [
        "#impair step\n",
        "epochs = 1\n",
        "history = fit_one_unlearning_cycle(epochs, student_model, noisy_loader, retain_valid_dl, device = device, lr = 0.0001)"
      ],
      "id": "MRgMcTvcLxQn"
    },
    {
      "cell_type": "code",
      "execution_count": null,
      "metadata": {
        "id": "cb-wed4fLxQo",
        "outputId": "c2a526fd-18be-4d22-a171-70441604cad5"
      },
      "outputs": [
        {
          "name": "stdout",
          "output_type": "stream",
          "text": [
            "Forget Performance: {'Loss': 4.435159683227539, 'Acc': 20.274078369140625}\n",
            "Retain Performance: {'Loss': 0.6515841484069824, 'Acc': 84.01521301269531}\n"
          ]
        }
      ],
      "source": [
        "print(\"Forget Performance: {}\".format(evaluate(student_model, forget_valid_dl, device)))\n",
        "print(\"Retain Performance: {}\".format(evaluate(student_model, retain_valid_dl, device)))"
      ],
      "id": "cb-wed4fLxQo"
    },
    {
      "cell_type": "code",
      "execution_count": null,
      "metadata": {
        "id": "b_G9u5cqLxQo",
        "outputId": "f4569908-6c50-4a6e-aa48-8e7a8fc3e6b3"
      },
      "outputs": [
        {
          "name": "stdout",
          "output_type": "stream",
          "text": [
            "Epoch [0], last_lr: 0.00010, train_loss: 0.0178, val_loss: 0.6395, val_acc: 84.6217\n"
          ]
        }
      ],
      "source": [
        "#repair step\n",
        "other_samples = []\n",
        "for i in range(len(retain_samples)):\n",
        "    other_samples.append((retain_samples[i][0].cpu(), torch.tensor(retain_samples[i][2]),\n",
        "                            torch.tensor(retain_samples[i][2])))\n",
        "\n",
        "heal_loader = torch.utils.data.DataLoader(other_samples, batch_size=batch_size, shuffle = True)\n",
        "epochs = 1\n",
        "history = fit_one_unlearning_cycle(epochs, student_model, heal_loader, retain_valid_dl, device = device, lr = 0.0001)"
      ],
      "id": "b_G9u5cqLxQo"
    },
    {
      "cell_type": "code",
      "execution_count": null,
      "metadata": {
        "id": "U2DQL-_oLxQo",
        "outputId": "1df704dd-bb5f-4306-9140-ab272bc21f0b"
      },
      "outputs": [
        {
          "name": "stdout",
          "output_type": "stream",
          "text": [
            "Forget Performance: {'Loss': 4.577937602996826, 'Acc': 17.43404197692871}\n",
            "Retain Performance: {'Loss': 0.639464259147644, 'Acc': 84.62171173095703}\n"
          ]
        }
      ],
      "source": [
        "print(\"Forget Performance: {}\".format(evaluate(student_model, forget_valid_dl, device)))\n",
        "print(\"Retain Performance: {}\".format(evaluate(student_model, retain_valid_dl, device)))"
      ],
      "id": "U2DQL-_oLxQo"
    },
    {
      "cell_type": "code",
      "execution_count": null,
      "metadata": {
        "id": "lIj1Lf9DLxQp"
      },
      "outputs": [],
      "source": [],
      "id": "lIj1Lf9DLxQp"
    }
  ],
  "metadata": {
    "kernelspec": {
      "display_name": "Python 3",
      "name": "python3"
    },
    "language_info": {
      "codemirror_mode": {
        "name": "ipython",
        "version": 3
      },
      "file_extension": ".py",
      "mimetype": "text/x-python",
      "name": "python",
      "nbconvert_exporter": "python",
      "pygments_lexer": "ipython3",
      "version": "3.7.7"
    },
    "colab": {
      "provenance": [],
      "gpuType": "V28"
    },
    "accelerator": "TPU"
  },
  "nbformat": 4,
  "nbformat_minor": 5
}