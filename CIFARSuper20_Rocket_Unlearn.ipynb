{
  "cells": [
    {
      "cell_type": "code",
      "source": [
        "#!pip uninstall tensorflow\n",
        "#!pip install torch torchvision -U\n",
        "\n",
        "!pip uninstall torch torchvision\n",
        "!pip install torch==2.2.0 torchvision==0.17.0\n",
        "#!pip uninstall tensorflow\n",
        "#!pip uninstall jax"
      ],
      "metadata": {
        "id": "DUuyMFx0BIFj",
        "colab": {
          "base_uri": "https://localhost:8080/"
        },
        "outputId": "a3db5bc9-e663-491f-ad3b-f1db487db751"
      },
      "id": "DUuyMFx0BIFj",
      "execution_count": null,
      "outputs": [
        {
          "output_type": "stream",
          "name": "stdout",
          "text": [
            "Found existing installation: torch 2.2.0+cpu\n",
            "Uninstalling torch-2.2.0+cpu:\n",
            "  Would remove:\n",
            "    /usr/local/bin/convert-caffe2-to-onnx\n",
            "    /usr/local/bin/convert-onnx-to-caffe2\n",
            "    /usr/local/bin/torchrun\n",
            "    /usr/local/lib/python3.10/dist-packages/functorch/*\n",
            "    /usr/local/lib/python3.10/dist-packages/torch-2.2.0+cpu.dist-info/*\n",
            "    /usr/local/lib/python3.10/dist-packages/torch/*\n",
            "    /usr/local/lib/python3.10/dist-packages/torchgen/*\n",
            "Proceed (Y/n)? y\n",
            "  Successfully uninstalled torch-2.2.0+cpu\n",
            "Found existing installation: torchvision 0.17.0+cpu\n",
            "Uninstalling torchvision-0.17.0+cpu:\n",
            "  Would remove:\n",
            "    /usr/local/lib/python3.10/dist-packages/torchvision-0.17.0+cpu.dist-info/*\n",
            "    /usr/local/lib/python3.10/dist-packages/torchvision.libs/libjpeg.ceea7512.so.62\n",
            "    /usr/local/lib/python3.10/dist-packages/torchvision.libs/libpng16.7f72a3c5.so.16\n",
            "    /usr/local/lib/python3.10/dist-packages/torchvision.libs/libz.37eba27a.so.1\n",
            "    /usr/local/lib/python3.10/dist-packages/torchvision/*\n",
            "Proceed (Y/n)? y\n",
            "  Successfully uninstalled torchvision-0.17.0+cpu\n",
            "Collecting torch==2.2.0\n",
            "  Downloading torch-2.2.0-cp310-cp310-manylinux1_x86_64.whl (755.5 MB)\n",
            "\u001b[2K     \u001b[90m━━━━━━━━━━━━━━━━━━━━━━━━━━━━━━━━━━━━━━━━\u001b[0m \u001b[32m755.5/755.5 MB\u001b[0m \u001b[31m479.3 kB/s\u001b[0m eta \u001b[36m0:00:00\u001b[0m\n",
            "\u001b[?25hCollecting torchvision==0.17.0\n",
            "  Downloading torchvision-0.17.0-cp310-cp310-manylinux1_x86_64.whl (6.9 MB)\n",
            "\u001b[2K     \u001b[90m━━━━━━━━━━━━━━━━━━━━━━━━━━━━━━━━━━━━━━━━\u001b[0m \u001b[32m6.9/6.9 MB\u001b[0m \u001b[31m47.3 MB/s\u001b[0m eta \u001b[36m0:00:00\u001b[0m\n",
            "\u001b[?25hRequirement already satisfied: filelock in /usr/local/lib/python3.10/dist-packages (from torch==2.2.0) (3.14.0)\n",
            "Requirement already satisfied: typing-extensions>=4.8.0 in /usr/local/lib/python3.10/dist-packages (from torch==2.2.0) (4.11.0)\n",
            "Requirement already satisfied: sympy in /usr/local/lib/python3.10/dist-packages (from torch==2.2.0) (1.12)\n",
            "Requirement already satisfied: networkx in /usr/local/lib/python3.10/dist-packages (from torch==2.2.0) (3.3)\n",
            "Requirement already satisfied: jinja2 in /usr/local/lib/python3.10/dist-packages (from torch==2.2.0) (3.1.4)\n",
            "Requirement already satisfied: fsspec in /usr/local/lib/python3.10/dist-packages (from torch==2.2.0) (2024.3.1)\n",
            "Requirement already satisfied: nvidia-cuda-nvrtc-cu12==12.1.105 in /usr/local/lib/python3.10/dist-packages (from torch==2.2.0) (12.1.105)\n",
            "Requirement already satisfied: nvidia-cuda-runtime-cu12==12.1.105 in /usr/local/lib/python3.10/dist-packages (from torch==2.2.0) (12.1.105)\n",
            "Requirement already satisfied: nvidia-cuda-cupti-cu12==12.1.105 in /usr/local/lib/python3.10/dist-packages (from torch==2.2.0) (12.1.105)\n",
            "Requirement already satisfied: nvidia-cudnn-cu12==8.9.2.26 in /usr/local/lib/python3.10/dist-packages (from torch==2.2.0) (8.9.2.26)\n",
            "Requirement already satisfied: nvidia-cublas-cu12==12.1.3.1 in /usr/local/lib/python3.10/dist-packages (from torch==2.2.0) (12.1.3.1)\n",
            "Requirement already satisfied: nvidia-cufft-cu12==11.0.2.54 in /usr/local/lib/python3.10/dist-packages (from torch==2.2.0) (11.0.2.54)\n",
            "Requirement already satisfied: nvidia-curand-cu12==10.3.2.106 in /usr/local/lib/python3.10/dist-packages (from torch==2.2.0) (10.3.2.106)\n",
            "Requirement already satisfied: nvidia-cusolver-cu12==11.4.5.107 in /usr/local/lib/python3.10/dist-packages (from torch==2.2.0) (11.4.5.107)\n",
            "Requirement already satisfied: nvidia-cusparse-cu12==12.1.0.106 in /usr/local/lib/python3.10/dist-packages (from torch==2.2.0) (12.1.0.106)\n",
            "Collecting nvidia-nccl-cu12==2.19.3 (from torch==2.2.0)\n",
            "  Downloading nvidia_nccl_cu12-2.19.3-py3-none-manylinux1_x86_64.whl (166.0 MB)\n",
            "\u001b[2K     \u001b[90m━━━━━━━━━━━━━━━━━━━━━━━━━━━━━━━━━━━━━━━━\u001b[0m \u001b[32m166.0/166.0 MB\u001b[0m \u001b[31m5.2 MB/s\u001b[0m eta \u001b[36m0:00:00\u001b[0m\n",
            "\u001b[?25hRequirement already satisfied: nvidia-nvtx-cu12==12.1.105 in /usr/local/lib/python3.10/dist-packages (from torch==2.2.0) (12.1.105)\n",
            "Collecting triton==2.2.0 (from torch==2.2.0)\n",
            "  Downloading triton-2.2.0-cp310-cp310-manylinux_2_17_x86_64.manylinux2014_x86_64.whl (167.9 MB)\n",
            "\u001b[2K     \u001b[90m━━━━━━━━━━━━━━━━━━━━━━━━━━━━━━━━━━━━━━━━\u001b[0m \u001b[32m167.9/167.9 MB\u001b[0m \u001b[31m5.0 MB/s\u001b[0m eta \u001b[36m0:00:00\u001b[0m\n",
            "\u001b[?25hRequirement already satisfied: numpy in /usr/local/lib/python3.10/dist-packages (from torchvision==0.17.0) (1.25.2)\n",
            "Requirement already satisfied: requests in /usr/local/lib/python3.10/dist-packages (from torchvision==0.17.0) (2.31.0)\n",
            "Requirement already satisfied: pillow!=8.3.*,>=5.3.0 in /usr/local/lib/python3.10/dist-packages (from torchvision==0.17.0) (10.3.0)\n",
            "Requirement already satisfied: nvidia-nvjitlink-cu12 in /usr/local/lib/python3.10/dist-packages (from nvidia-cusolver-cu12==11.4.5.107->torch==2.2.0) (12.4.127)\n",
            "Requirement already satisfied: MarkupSafe>=2.0 in /usr/local/lib/python3.10/dist-packages (from jinja2->torch==2.2.0) (2.1.5)\n",
            "Requirement already satisfied: charset-normalizer<4,>=2 in /usr/local/lib/python3.10/dist-packages (from requests->torchvision==0.17.0) (3.3.2)\n",
            "Requirement already satisfied: idna<4,>=2.5 in /usr/local/lib/python3.10/dist-packages (from requests->torchvision==0.17.0) (3.7)\n",
            "Requirement already satisfied: urllib3<3,>=1.21.1 in /usr/local/lib/python3.10/dist-packages (from requests->torchvision==0.17.0) (2.0.7)\n",
            "Requirement already satisfied: certifi>=2017.4.17 in /usr/local/lib/python3.10/dist-packages (from requests->torchvision==0.17.0) (2024.2.2)\n",
            "Requirement already satisfied: mpmath>=0.19 in /usr/local/lib/python3.10/dist-packages (from sympy->torch==2.2.0) (1.3.0)\n",
            "Installing collected packages: triton, nvidia-nccl-cu12, torch, torchvision\n",
            "  Attempting uninstall: triton\n",
            "    Found existing installation: triton 2.3.0\n",
            "    Uninstalling triton-2.3.0:\n",
            "      Successfully uninstalled triton-2.3.0\n",
            "  Attempting uninstall: nvidia-nccl-cu12\n",
            "    Found existing installation: nvidia-nccl-cu12 2.20.5\n",
            "    Uninstalling nvidia-nccl-cu12-2.20.5:\n",
            "      Successfully uninstalled nvidia-nccl-cu12-2.20.5\n",
            "Successfully installed nvidia-nccl-cu12-2.19.3 torch-2.2.0 torchvision-0.17.0 triton-2.2.0\n"
          ]
        }
      ]
    },
    {
      "cell_type": "code",
      "source": [
        "from importlib.metadata import version\n",
        "version(\"jax\")"
      ],
      "metadata": {
        "colab": {
          "base_uri": "https://localhost:8080/",
          "height": 35
        },
        "id": "hI9yMqmDptdT",
        "outputId": "d4e9bf7d-19e0-4728-a912-fdf7a43dcce5"
      },
      "id": "hI9yMqmDptdT",
      "execution_count": null,
      "outputs": [
        {
          "output_type": "execute_result",
          "data": {
            "text/plain": [
              "'0.4.26'"
            ],
            "application/vnd.google.colaboratory.intrinsic+json": {
              "type": "string"
            }
          },
          "metadata": {},
          "execution_count": 9
        }
      ]
    },
    {
      "cell_type": "code",
      "source": [
        "!git clone https://github.com/Alberknyis/bad-teaching-unlearning.git"
      ],
      "metadata": {
        "id": "7Ww4ISl7L_EX",
        "outputId": "8a2c138a-5066-44d7-cafc-2813aca7ad3e",
        "colab": {
          "base_uri": "https://localhost:8080/"
        }
      },
      "id": "7Ww4ISl7L_EX",
      "execution_count": null,
      "outputs": [
        {
          "output_type": "stream",
          "name": "stdout",
          "text": [
            "fatal: destination path 'bad-teaching-unlearning' already exists and is not an empty directory.\n"
          ]
        }
      ]
    },
    {
      "cell_type": "code",
      "source": [
        "import sys\n",
        "sys.path.insert(0,'/content/bad-teaching-unlearning')"
      ],
      "metadata": {
        "id": "AOgGPqXCMbCG"
      },
      "id": "AOgGPqXCMbCG",
      "execution_count": null,
      "outputs": []
    },
    {
      "cell_type": "code",
      "execution_count": null,
      "metadata": {
        "id": "4RuRwnkMLxQU"
      },
      "outputs": [],
      "source": [
        "import torch\n",
        "\n",
        "from dataset import *\n",
        "from model import ResNet18\n",
        "from unlearn import *\n",
        "from metrics import UnLearningScore\n",
        "from utils import *\n",
        "from torch.utils.data import DataLoader"
      ],
      "id": "4RuRwnkMLxQU"
    },
    {
      "cell_type": "code",
      "source": [
        "#import torch_xla\n",
        "import torch_xla.core.xla_model as xm\n",
        "device = xm.xla_device()"
      ],
      "metadata": {
        "id": "l9GK5GMUNxKg"
      },
      "id": "l9GK5GMUNxKg",
      "execution_count": null,
      "outputs": []
    },
    {
      "cell_type": "code",
      "execution_count": null,
      "metadata": {
        "id": "oiFkNpajLxQV",
        "outputId": "16e8c052-861d-4368-91c6-bc8b0465fc78",
        "colab": {
          "base_uri": "https://localhost:8080/"
        }
      },
      "outputs": [
        {
          "output_type": "stream",
          "name": "stdout",
          "text": [
            "Files already downloaded and verified\n",
            "Files already downloaded and verified\n"
          ]
        }
      ],
      "source": [
        "train_ds = CustomCIFAR100(root='.', train=True,download=True, transform=transform_train)\n",
        "valid_ds = CustomCIFAR100(root='.', train=False,download=True, transform=transform_train)\n",
        "\n",
        "batch_size = 256\n",
        "#batch_size = 128\n",
        "train_dl = DataLoader(train_ds, batch_size, shuffle=True, num_workers=32, pin_memory=True)\n",
        "valid_dl = DataLoader(valid_ds, batch_size, num_workers=32, pin_memory=True)\n",
        "\n",
        "#train_dl = DataLoader(train_ds, batch_size, shuffle=True, num_workers=8, pin_memory=True)\n",
        "#valid_dl = DataLoader(valid_ds, batch_size, num_workers=8, pin_memory=True)"
      ],
      "id": "oiFkNpajLxQV"
    },
    {
      "cell_type": "code",
      "execution_count": null,
      "metadata": {
        "id": "ecAGxSh7LxQW"
      },
      "outputs": [],
      "source": [
        "num_classes = 100\n",
        "classwise_train = {}\n",
        "for i in range(num_classes):\n",
        "    classwise_train[i] = []\n",
        "\n",
        "for img, label, clabel in train_ds:\n",
        "    classwise_train[label].append((img, label, clabel))\n",
        "\n",
        "classwise_test = {}\n",
        "for i in range(num_classes):\n",
        "    classwise_test[i] = []\n",
        "\n",
        "for img, label, clabel in valid_ds:\n",
        "    classwise_test[label].append((img, label, clabel))"
      ],
      "id": "ecAGxSh7LxQW"
    },
    {
      "cell_type": "code",
      "source": [
        "!nvidia-smi"
      ],
      "metadata": {
        "id": "4a7XOCBZXCSH",
        "outputId": "d56fd5bf-99ab-4886-c591-6babe5244391",
        "colab": {
          "base_uri": "https://localhost:8080/"
        }
      },
      "id": "4a7XOCBZXCSH",
      "execution_count": null,
      "outputs": [
        {
          "output_type": "stream",
          "name": "stdout",
          "text": [
            "/bin/bash: line 1: nvidia-smi: command not found\n"
          ]
        }
      ]
    },
    {
      "cell_type": "code",
      "execution_count": null,
      "metadata": {
        "id": "jQO26KwQLxQX",
        "outputId": "0b064978-5256-4066-f640-e81a7641e6e0",
        "colab": {
          "base_uri": "https://localhost:8080/"
        }
      },
      "outputs": [
        {
          "output_type": "stream",
          "name": "stdout",
          "text": [
            "Epoch [0], last_lr: 0.00100, train_loss: 1.2409, val_loss: 1.0527, val_acc: 66.9727\n",
            "Epoch [1], last_lr: 0.00100, train_loss: 0.7352, val_loss: 0.8059, val_acc: 75.4199\n",
            "Epoch [2], last_lr: 0.00100, train_loss: 0.5268, val_loss: 0.7724, val_acc: 77.9785\n",
            "Epoch [3], last_lr: 0.00100, train_loss: 0.4539, val_loss: 0.9825, val_acc: 72.2656\n",
            "Epoch [4], last_lr: 0.00100, train_loss: 0.3325, val_loss: 0.8121, val_acc: 77.5195\n"
          ]
        }
      ],
      "source": [
        "# train the model\n",
        "#device = 'cuda'\n",
        "model = ResNet18(num_classes = 20, pretrained = True).to(device)\n",
        "epochs = 5\n",
        "#epochs = 1\n",
        "history = fit_one_cycle(epochs, model, train_dl, valid_dl, device = device)\n",
        "torch.save(model.state_dict(), \"ResNET18_CIFAR100Super20_Pretrained_ALL_CLASSES_5_Epochs.pt\")"
      ],
      "id": "jQO26KwQLxQX"
    },
    {
      "cell_type": "code",
      "source": [
        "torch.save(model.state_dict(), \"ResNET18_CIFAR100Super20_Pretrained_ALL_CLASSES_5_Epochs.pt\")"
      ],
      "metadata": {
        "id": "vlfvQWQtkfR2"
      },
      "id": "vlfvQWQtkfR2",
      "execution_count": null,
      "outputs": []
    },
    {
      "cell_type": "code",
      "execution_count": null,
      "metadata": {
        "id": "mZIHWa1iLxQY",
        "outputId": "c6f3d05b-067a-4ed6-e45a-abcd1ed605dd",
        "colab": {
          "base_uri": "https://localhost:8080/"
        }
      },
      "outputs": [
        {
          "output_type": "execute_result",
          "data": {
            "text/plain": [
              "<All keys matched successfully>"
            ]
          },
          "metadata": {},
          "execution_count": 17
        }
      ],
      "source": [
        "# load the trained model\n",
        "#device = 'cuda'\n",
        "model = ResNet18(num_classes = 20, pretrained = True).to(device)\n",
        "model.load_state_dict(torch.load(\"ResNET18_CIFAR100Super20_Pretrained_ALL_CLASSES_5_Epochs.pt\", map_location='cuda'))"
      ],
      "id": "mZIHWa1iLxQY"
    },
    {
      "cell_type": "markdown",
      "metadata": {
        "id": "Omi8QF8pLxQY"
      },
      "source": [
        "# Forgetting Rocket\n",
        "The Rocket is class 69 in CIFAR100 and belongs to Super Class 19 (Vehicles) in CIFAR Super 20."
      ],
      "id": "Omi8QF8pLxQY"
    },
    {
      "cell_type": "code",
      "execution_count": null,
      "metadata": {
        "id": "w4JCNgjvLxQa"
      },
      "outputs": [],
      "source": [
        "# Getting the forget and retain validation data\n",
        "forget_valid = []\n",
        "forget_classes = [69]\n",
        "for cls in range(num_classes):\n",
        "    if cls in forget_classes:\n",
        "        for img, label, clabel in classwise_test[cls]:\n",
        "            forget_valid.append((img, label, clabel))\n",
        "\n",
        "retain_valid = []\n",
        "for cls in range(num_classes):\n",
        "    if cls not in forget_classes:\n",
        "        for img, label, clabel in classwise_test[cls]:\n",
        "            retain_valid.append((img, label, clabel))\n",
        "\n",
        "forget_train = []\n",
        "for cls in range(num_classes):\n",
        "    if cls in forget_classes:\n",
        "        for img, label, clabel in classwise_train[cls]:\n",
        "            forget_train.append((img, label, clabel))\n",
        "\n",
        "retain_train = []\n",
        "for cls in range(num_classes):\n",
        "    if cls not in forget_classes:\n",
        "        for img, label, clabel in classwise_train[cls]:\n",
        "            retain_train.append((img, label, clabel))\n",
        "\n",
        "forget_valid_dl = DataLoader(forget_valid, batch_size, num_workers=32, pin_memory=True)\n",
        "\n",
        "retain_valid_dl = DataLoader(retain_valid, batch_size, num_workers=32, pin_memory=True)\n",
        "\n",
        "forget_train_dl = DataLoader(forget_train, batch_size, num_workers=32, pin_memory=True)\n",
        "retain_train_dl = DataLoader(retain_train, batch_size, num_workers=32, pin_memory=True, shuffle = True)\n",
        "import random\n",
        "retain_train_subset = random.sample(retain_train, int(0.3*len(retain_train)))\n",
        "retain_train_subset_dl = DataLoader(retain_train_subset, batch_size, num_workers=32, pin_memory=True, shuffle = True)"
      ],
      "id": "w4JCNgjvLxQa"
    },
    {
      "cell_type": "code",
      "execution_count": null,
      "metadata": {
        "id": "5meBet1gLxQa",
        "outputId": "b1a45c28-5d6f-4d94-f575-7e6570845c32",
        "colab": {
          "base_uri": "https://localhost:8080/"
        }
      },
      "outputs": [
        {
          "output_type": "execute_result",
          "data": {
            "text/plain": [
              "{'Loss': 0.8249897956848145, 'Acc': 77.42457580566406}"
            ]
          },
          "metadata": {},
          "execution_count": 19
        }
      ],
      "source": [
        "# Performance of Fully trained model on retain set\n",
        "evaluate(model, retain_valid_dl, device)"
      ],
      "id": "5meBet1gLxQa"
    },
    {
      "cell_type": "code",
      "execution_count": null,
      "metadata": {
        "id": "rg62C1WZLxQb",
        "outputId": "72db8d8f-323f-4754-f9d1-7fceaf379ad8",
        "colab": {
          "base_uri": "https://localhost:8080/"
        }
      },
      "outputs": [
        {
          "output_type": "execute_result",
          "data": {
            "text/plain": [
              "{'Loss': 0.8302143812179565, 'Acc': 73.0}"
            ]
          },
          "metadata": {},
          "execution_count": 20
        }
      ],
      "source": [
        "# Performance of Fully trained model on retain set\n",
        "evaluate(model, forget_valid_dl, device)"
      ],
      "id": "rg62C1WZLxQb"
    },
    {
      "cell_type": "markdown",
      "metadata": {
        "id": "F87VLwswLxQd"
      },
      "source": [
        "## Retrain the model from Scratch\n",
        "Create Retrained Model (Gold model). This is the model trained from scratch without forget data."
      ],
      "id": "F87VLwswLxQd"
    },
    {
      "cell_type": "code",
      "execution_count": null,
      "metadata": {
        "id": "nguWKolHLxQd",
        "colab": {
          "base_uri": "https://localhost:8080/"
        },
        "outputId": "9cad8cc6-7701-409d-a1d3-8739d76e61ca"
      },
      "outputs": [
        {
          "output_type": "stream",
          "name": "stdout",
          "text": [
            "Epoch [0], last_lr: 0.00100, train_loss: 1.2551, val_loss: 1.0415, val_acc: 68.2026\n",
            "Epoch [1], last_lr: 0.00100, train_loss: 0.7258, val_loss: 0.9929, val_acc: 73.2682\n",
            "Epoch [2], last_lr: 0.00100, train_loss: 0.5329, val_loss: 1.8756, val_acc: 63.1897\n",
            "Epoch [3], last_lr: 0.00100, train_loss: 0.4042, val_loss: 0.9015, val_acc: 75.5180\n",
            "Epoch [4], last_lr: 0.00100, train_loss: 0.2898, val_loss: 0.9702, val_acc: 76.2497\n"
          ]
        }
      ],
      "source": [
        "#device = 'cuda'\n",
        "gold_model = ResNet18(num_classes = 20, pretrained = True).to(device)\n",
        "epochs = 5\n",
        "#epochs = 1\n",
        "history = fit_one_cycle(epochs, gold_model, retain_train_dl, retain_valid_dl, device = device)\n",
        "torch.save(gold_model.state_dict(), \"ResNET18_CIFAR100Super20_Pretrained_Gold_Class69_5_Epochs.pt\")"
      ],
      "id": "nguWKolHLxQd"
    },
    {
      "cell_type": "code",
      "execution_count": null,
      "metadata": {
        "id": "7WKjB2CYLxQe",
        "outputId": "ba43da83-c65a-4e6b-bf7d-fe68e4c95ebc",
        "colab": {
          "base_uri": "https://localhost:8080/"
        }
      },
      "outputs": [
        {
          "output_type": "execute_result",
          "data": {
            "text/plain": [
              "<All keys matched successfully>"
            ]
          },
          "metadata": {},
          "execution_count": 23
        }
      ],
      "source": [
        "#device = 'cuda'\n",
        "gold_model = ResNet18(num_classes = 20, pretrained = True).to(device)\n",
        "gold_model.load_state_dict(torch.load(\"ResNET18_CIFAR100Super20_Pretrained_Gold_Class69_5_Epochs.pt\", map_location=device))"
      ],
      "id": "7WKjB2CYLxQe"
    },
    {
      "cell_type": "code",
      "execution_count": null,
      "metadata": {
        "id": "Kcrbv0IyLxQf",
        "outputId": "cb3f8299-a2c9-4c33-9863-b3a23fb323e9",
        "colab": {
          "base_uri": "https://localhost:8080/"
        }
      },
      "outputs": [
        {
          "output_type": "execute_result",
          "data": {
            "text/plain": [
              "{'Loss': 8.612824440002441, 'Acc': 1.0}"
            ]
          },
          "metadata": {},
          "execution_count": 24
        }
      ],
      "source": [
        "# evaluate gold model on forget set\n",
        "evaluate(gold_model, forget_valid_dl, device)"
      ],
      "id": "Kcrbv0IyLxQf"
    },
    {
      "cell_type": "code",
      "execution_count": null,
      "metadata": {
        "id": "uJcEcEhJLxQf",
        "outputId": "c16e0c8d-7612-4585-944e-000e897dd70b",
        "colab": {
          "base_uri": "https://localhost:8080/"
        }
      },
      "outputs": [
        {
          "output_type": "execute_result",
          "data": {
            "text/plain": [
              "{'Loss': 0.9701842665672302, 'Acc': 76.24967193603516}"
            ]
          },
          "metadata": {},
          "execution_count": 25
        }
      ],
      "source": [
        "# evaluate gold model on retain set\n",
        "evaluate(gold_model, retain_valid_dl, device)"
      ],
      "id": "uJcEcEhJLxQf"
    },
    {
      "cell_type": "code",
      "source": [],
      "metadata": {
        "id": "bxmsvu749OsS"
      },
      "id": "bxmsvu749OsS",
      "execution_count": null,
      "outputs": []
    },
    {
      "cell_type": "markdown",
      "metadata": {
        "id": "KMNspfHQLxQg"
      },
      "source": [
        "## UnLearning via proposed method"
      ],
      "id": "KMNspfHQLxQg"
    },
    {
      "cell_type": "code",
      "execution_count": null,
      "metadata": {
        "id": "ZVjSX9p4LxQh",
        "outputId": "4f34c3f2-6b20-4e23-a189-962c58801948",
        "colab": {
          "base_uri": "https://localhost:8080/"
        }
      },
      "outputs": [
        {
          "output_type": "stream",
          "name": "stderr",
          "text": [
            "/usr/local/lib/python3.10/dist-packages/torchvision/models/_utils.py:223: UserWarning: Arguments other than a weight enum or `None` for 'weights' are deprecated since 0.13 and may be removed in the future. The current behavior is equivalent to passing `weights=None`.\n",
            "  warnings.warn(msg)\n",
            "/usr/local/lib/python3.10/dist-packages/torch/nn/functional.py:2949: UserWarning: reduction: 'mean' divides the total loss by both the batch size and the support size.'batchmean' divides only by the batch size, and aligns with the KL div math definition.'mean' will be changed to behave the same as 'batchmean' in the next major release.\n",
            "  warnings.warn(\n",
            "/usr/local/lib/python3.10/dist-packages/torch/autograd/__init__.py:266: UserWarning: aten::kl_div: an autograd kernel was not registered to the Autograd key(s) but we are trying to backprop through it. This may lead to silently incorrect behavior. This behavior is deprecated and will be removed in a future version of PyTorch. If your operator is differentiable, please ensure you have registered an autograd kernel to the correct Autograd key (e.g. DispatchKey::Autograd, DispatchKey::CompositeImplicitAutograd). If your operator is not differentiable, or to squash this warning and use the previous behavior, please register torch::CppFunction::makeFallthrough() to DispatchKey::Autograd. (Triggered internally at ../torch/csrc/autograd/autograd_not_implemented_fallback.cpp:63.)\n",
            "  Variable._execution_engine.run_backward(  # Calls into the C++ engine to run the backward pass\n"
          ]
        },
        {
          "output_type": "stream",
          "name": "stdout",
          "text": [
            "Epoch 1 Unlearning Loss 0.0056249951012432575\n"
          ]
        }
      ],
      "source": [
        "#device = 'cuda'\n",
        "unlearning_teacher = ResNet18(num_classes = 20, pretrained = False).to(device).eval()\n",
        "student_model = ResNet18(num_classes = 20, pretrained = False).to(device)\n",
        "student_model.load_state_dict(torch.load(\"ResNET18_CIFAR100Super20_Pretrained_ALL_CLASSES_5_Epochs.pt\", map_location = device))\n",
        "model = model.eval()\n",
        "\n",
        "KL_temperature = 1\n",
        "\n",
        "optimizer = torch.optim.Adam(student_model.parameters(), lr = 0.0001)\n",
        "\n",
        "blindspot_unlearner(model = student_model, unlearning_teacher = unlearning_teacher, full_trained_teacher = model,\n",
        "          retain_data = retain_train_subset, forget_data = forget_train, epochs = 1, optimizer = optimizer, lr = 0.0001,\n",
        "          batch_size = 256, num_workers = 32, device = device, KL_temperature = KL_temperature)"
      ],
      "id": "ZVjSX9p4LxQh"
    },
    {
      "cell_type": "code",
      "execution_count": null,
      "metadata": {
        "id": "rmjRNCuWLxQh",
        "outputId": "917220ab-b3b7-4346-dcce-165b210ad086",
        "colab": {
          "base_uri": "https://localhost:8080/"
        }
      },
      "outputs": [
        {
          "output_type": "execute_result",
          "data": {
            "text/plain": [
              "{'Loss': 3.3927807807922363, 'Acc': 1.0}"
            ]
          },
          "metadata": {},
          "execution_count": 27
        }
      ],
      "source": [
        "# performance of unlearned model on forget set\n",
        "evaluate(student_model, forget_valid_dl, device)"
      ],
      "id": "rmjRNCuWLxQh"
    },
    {
      "cell_type": "code",
      "execution_count": null,
      "metadata": {
        "id": "WYme22DBLxQi",
        "outputId": "f7b63b2c-9f0b-4379-c513-2e124b8ecd5c",
        "colab": {
          "base_uri": "https://localhost:8080/"
        }
      },
      "outputs": [
        {
          "output_type": "execute_result",
          "data": {
            "text/plain": [
              "{'Loss': 0.7348727583885193, 'Acc': 78.84661865234375}"
            ]
          },
          "metadata": {},
          "execution_count": 28
        }
      ],
      "source": [
        "# performance of unlearned model on retain set\n",
        "evaluate(student_model, retain_valid_dl, device)"
      ],
      "id": "WYme22DBLxQi"
    },
    {
      "cell_type": "markdown",
      "metadata": {
        "id": "3JxoHah0LxQi"
      },
      "source": [
        "### Measure ZRF (Unlearning Score)"
      ],
      "id": "3JxoHah0LxQi"
    },
    {
      "cell_type": "code",
      "execution_count": null,
      "metadata": {
        "id": "4Y_mU73lLxQi",
        "outputId": "fda37415-2029-47dd-ef0a-f7ad1aa8c477",
        "colab": {
          "base_uri": "https://localhost:8080/"
        }
      },
      "outputs": [
        {
          "output_type": "stream",
          "name": "stdout",
          "text": [
            "Initial Score: 0.9227719306945801\n",
            "Our Score: 0.989225447177887\n",
            "Gold Score: 0.9363023638725281\n",
            "JS Div: 0.04250079393386841\n"
          ]
        }
      ],
      "source": [
        "#print(\"Initial Score: {}\".format(UnLearningScore(model, unlearning_teacher, forget_valid_dl, 256, 'cuda')))\n",
        "#print(\"Our Score: {}\".format(UnLearningScore(student_model, unlearning_teacher, forget_valid_dl, 256, 'cuda')))\n",
        "#print(\"Gold Score: {}\".format(UnLearningScore(gold_model, unlearning_teacher, forget_valid_dl, 256, 'cuda')))\n",
        "#print(\"JS Div: {}\".format(1-UnLearningScore(gold_model, student_model, forget_valid_dl, 256, 'cuda')))\n",
        "print(\"Initial Score: {}\".format(UnLearningScore(model, unlearning_teacher, forget_valid_dl, 256, device)))\n",
        "print(\"Our Score: {}\".format(UnLearningScore(student_model, unlearning_teacher, forget_valid_dl, 256, device)))\n",
        "print(\"Gold Score: {}\".format(UnLearningScore(gold_model, unlearning_teacher, forget_valid_dl, 256, device)))\n",
        "print(\"JS Div: {}\".format(1-UnLearningScore(gold_model, student_model, forget_valid_dl, 256, device)))"
      ],
      "id": "4Y_mU73lLxQi"
    },
    {
      "cell_type": "markdown",
      "metadata": {
        "id": "5uG-JoObLxQj"
      },
      "source": [
        "## Unlearning using Amnesiac unlearning"
      ],
      "id": "5uG-JoObLxQj"
    },
    {
      "cell_type": "code",
      "execution_count": null,
      "metadata": {
        "id": "fr9RVzsYLxQj"
      },
      "outputs": [],
      "source": [
        "unlearninglabels = list(range(20))\n",
        "unlearninglabels.remove(19)\n",
        "unlearning_train_set = []\n",
        "for cls in range(num_classes):\n",
        "    if cls in forget_classes:\n",
        "        for img, label, clabel in classwise_train[cls]:\n",
        "            unlearning_train_set.append((img, label, random.choice(unlearninglabels)))\n",
        "\n",
        "\n",
        "\n",
        "for cls in range(num_classes):\n",
        "    if cls not in forget_classes:\n",
        "        for img, label, clabel in classwise_train[cls]:\n",
        "            unlearning_train_set.append((img, label, clabel))"
      ],
      "id": "fr9RVzsYLxQj"
    },
    {
      "cell_type": "code",
      "execution_count": null,
      "metadata": {
        "id": "Vv9i0HTELxQj"
      },
      "outputs": [],
      "source": [
        "unlearning_train_set_dl = DataLoader(unlearning_train_set, batch_size, num_workers = 32, pin_memory = True, shuffle = True)"
      ],
      "id": "Vv9i0HTELxQj"
    },
    {
      "cell_type": "code",
      "execution_count": null,
      "metadata": {
        "id": "Fl3dyTPTLxQk",
        "outputId": "cc15e4f7-2d79-4633-ac99-9f4d2f7ef20b",
        "colab": {
          "base_uri": "https://localhost:8080/"
        }
      },
      "outputs": [
        {
          "output_type": "stream",
          "name": "stdout",
          "text": [
            "Epoch [0], last_lr: 0.00010, train_loss: 0.1328, val_loss: 0.6601, val_acc: 84.3631\n",
            "Epoch [1], last_lr: 0.00010, train_loss: 0.0564, val_loss: 0.7640, val_acc: 84.3790\n",
            "Epoch [2], last_lr: 0.00010, train_loss: 0.0386, val_loss: 0.8184, val_acc: 84.4430\n"
          ]
        }
      ],
      "source": [
        "#device = 'cuda'\n",
        "student_model = ResNet18(num_classes = 20, pretrained = True).to(device)\n",
        "student_model.load_state_dict(torch.load(\"ResNET18_CIFAR100Super20_Pretrained_ALL_CLASSES_5_Epochs.pt\", map_location = 'cuda'))\n",
        "epochs = 3\n",
        "\n",
        "history = fit_one_unlearning_cycle(epochs, student_model, unlearning_train_set_dl, retain_valid_dl, device = device, lr = 0.0001)"
      ],
      "id": "Fl3dyTPTLxQk"
    },
    {
      "cell_type": "code",
      "source": [
        "#this is where the allowance ran out"
      ],
      "metadata": {
        "id": "Dwm8Wqm5PJme"
      },
      "id": "Dwm8Wqm5PJme",
      "execution_count": null,
      "outputs": []
    },
    {
      "cell_type": "code",
      "execution_count": null,
      "metadata": {
        "id": "YLPPpFWsLxQk",
        "outputId": "c4011418-2ecf-4aaa-e667-104d6b360cdc",
        "colab": {
          "base_uri": "https://localhost:8080/"
        }
      },
      "outputs": [
        {
          "output_type": "stream",
          "name": "stdout",
          "text": [
            "Forget Performance: {'Loss': 3.6175918579101562, 'Acc': 4.0}\n",
            "Retain Performance: {'Loss': 0.5542724132537842, 'Acc': 84.37849426269531}\n"
          ]
        }
      ],
      "source": [
        "print(\"Forget Performance: {}\".format(evaluate(student_model, forget_valid_dl, device)))\n",
        "print(\"Retain Performance: {}\".format(evaluate(student_model, retain_valid_dl, device)))"
      ],
      "id": "YLPPpFWsLxQk"
    },
    {
      "cell_type": "markdown",
      "metadata": {
        "id": "J5ZajW_PLxQl"
      },
      "source": [
        "## Unlearning using UNSIR (Class 0)"
      ],
      "id": "J5ZajW_PLxQl"
    },
    {
      "cell_type": "code",
      "execution_count": null,
      "metadata": {
        "id": "ihsPSakVLxQl"
      },
      "outputs": [],
      "source": [
        "num_classes = 20\n",
        "classwise_train = {}\n",
        "for i in range(num_classes):\n",
        "    classwise_train[i] = []\n",
        "\n",
        "for img, label, clabel in train_ds:\n",
        "    classwise_train[clabel].append((img, label, clabel))\n",
        "\n",
        "classwise_test = {}\n",
        "for i in range(num_classes):\n",
        "    classwise_test[i] = []\n",
        "\n",
        "for img, label, clabel in valid_ds:\n",
        "    classwise_test[clabel].append((img, label, clabel))"
      ],
      "id": "ihsPSakVLxQl"
    },
    {
      "cell_type": "code",
      "execution_count": null,
      "metadata": {
        "id": "HoOf6EecLxQl"
      },
      "outputs": [],
      "source": [
        "# Getting the forget and retain validation data\n",
        "forget_valid = []\n",
        "forget_classes = [0]\n",
        "for cls in range(num_classes):\n",
        "    if cls in forget_classes:\n",
        "        for img, label, clabel in classwise_test[cls]:\n",
        "            forget_valid.append((img, label, clabel))\n",
        "\n",
        "retain_valid = []\n",
        "for cls in range(num_classes):\n",
        "    if cls not in forget_classes:\n",
        "        for img, label, clabel in classwise_test[cls]:\n",
        "            retain_valid.append((img, label, clabel))\n",
        "\n",
        "forget_train = []\n",
        "for cls in range(num_classes):\n",
        "    if cls in forget_classes:\n",
        "        for img, label, clabel in classwise_train[cls]:\n",
        "            forget_train.append((img, label, clabel))\n",
        "\n",
        "retain_train = []\n",
        "for cls in range(num_classes):\n",
        "    if cls not in forget_classes:\n",
        "        for img, label, clabel in classwise_train[cls]:\n",
        "            retain_train.append((img, label, clabel))\n",
        "\n",
        "forget_valid_dl = DataLoader(forget_valid, batch_size, num_workers=32, pin_memory=True)\n",
        "\n",
        "retain_valid_dl = DataLoader(retain_valid, batch_size, num_workers=32, pin_memory=True)\n",
        "\n",
        "forget_train_dl = DataLoader(forget_train, batch_size, num_workers=32, pin_memory=True)\n",
        "retain_train_dl = DataLoader(retain_train, batch_size, num_workers=32, pin_memory=True, shuffle = True)"
      ],
      "id": "HoOf6EecLxQl"
    },
    {
      "cell_type": "code",
      "execution_count": null,
      "metadata": {
        "id": "KJxIJscnLxQl"
      },
      "outputs": [],
      "source": [
        "#collect some samples from each class\n",
        "num_samples = 500\n",
        "retain_samples = []\n",
        "for i in range(num_classes):\n",
        "    if i not in forget_classes:\n",
        "        retain_samples += classwise_train[i][:num_samples]"
      ],
      "id": "KJxIJscnLxQl"
    },
    {
      "cell_type": "code",
      "execution_count": null,
      "metadata": {
        "id": "0YVxHT4yLxQl"
      },
      "outputs": [],
      "source": [
        "noise_batch_size = 256"
      ],
      "id": "0YVxHT4yLxQl"
    },
    {
      "cell_type": "code",
      "execution_count": null,
      "metadata": {
        "id": "2WmgioLdLxQm",
        "outputId": "5667ddee-a705-4560-e40f-b6cccf0348a5",
        "colab": {
          "base_uri": "https://localhost:8080/"
        }
      },
      "outputs": [
        {
          "output_type": "execute_result",
          "data": {
            "text/plain": [
              "<All keys matched successfully>"
            ]
          },
          "metadata": {},
          "execution_count": 27
        }
      ],
      "source": [
        "#device = 'cuda'\n",
        "student_model = ResNet18(num_classes = 20, pretrained = False).to(device)\n",
        "student_model.load_state_dict(torch.load(\"ResNET18_CIFAR100Super20_Pretrained_ALL_CLASSES_5_Epochs.pt\", map_location = device))"
      ],
      "id": "2WmgioLdLxQm"
    },
    {
      "cell_type": "code",
      "execution_count": null,
      "metadata": {
        "id": "8sTO7xNwLxQm"
      },
      "outputs": [],
      "source": [
        "noise = UNSIR_noise(batch_size, 3, 224, 224).to(device)"
      ],
      "id": "8sTO7xNwLxQm"
    },
    {
      "cell_type": "code",
      "execution_count": null,
      "metadata": {
        "id": "8V-i307yLxQm"
      },
      "outputs": [],
      "source": [
        "forget_class_label = 0\n",
        "#num_epochs = 250\n",
        "num_epochs = 1"
      ],
      "id": "8V-i307yLxQm"
    },
    {
      "cell_type": "code",
      "execution_count": null,
      "metadata": {
        "id": "eEsLBQgzLxQn",
        "outputId": "f513c59c-5e52-47a3-caa2-aaa133ede929",
        "colab": {
          "base_uri": "https://localhost:8080/"
        }
      },
      "outputs": [
        {
          "output_type": "stream",
          "name": "stdout",
          "text": [
            "Loss: 751.0631713867188\n"
          ]
        }
      ],
      "source": [
        "noise =  UNSIR_noise_train(noise, student_model, forget_class_label, num_epochs,\\\n",
        "                           noise_batch_size, device=device)"
      ],
      "id": "eEsLBQgzLxQn"
    },
    {
      "cell_type": "code",
      "execution_count": null,
      "metadata": {
        "id": "_DHYYyZjLxQn"
      },
      "outputs": [],
      "source": [
        "#takes 19 years\n",
        "noisy_loader = UNSIR_create_noisy_loader(noise, forget_class_label\\\n",
        "                                         , retain_samples, batch_size, device=device)"
      ],
      "id": "_DHYYyZjLxQn"
    },
    {
      "cell_type": "code",
      "execution_count": null,
      "metadata": {
        "id": "MRgMcTvcLxQn",
        "outputId": "6eaafd1b-e926-4857-a556-afde28577d01",
        "colab": {
          "base_uri": "https://localhost:8080/"
        }
      },
      "outputs": [
        {
          "output_type": "stream",
          "name": "stdout",
          "text": [
            "Epoch [0], last_lr: 0.00010, train_loss: 0.7036, val_loss: 0.7013, val_acc: 79.1133\n"
          ]
        }
      ],
      "source": [
        "#impair step\n",
        "epochs = 1\n",
        "history = fit_one_unlearning_cycle(epochs, student_model, noisy_loader, retain_valid_dl, device = device, lr = 0.0001)"
      ],
      "id": "MRgMcTvcLxQn"
    },
    {
      "cell_type": "code",
      "execution_count": null,
      "metadata": {
        "id": "cb-wed4fLxQo"
      },
      "outputs": [],
      "source": [
        "print(\"Forget Performance: {}\".format(evaluate(student_model, forget_valid_dl, device)))\n",
        "print(\"Retain Performance: {}\".format(evaluate(student_model, retain_valid_dl, device)))"
      ],
      "id": "cb-wed4fLxQo"
    },
    {
      "cell_type": "code",
      "execution_count": null,
      "metadata": {
        "id": "b_G9u5cqLxQo",
        "outputId": "f4569908-6c50-4a6e-aa48-8e7a8fc3e6b3"
      },
      "outputs": [
        {
          "name": "stdout",
          "output_type": "stream",
          "text": [
            "Epoch [0], last_lr: 0.00010, train_loss: 0.0178, val_loss: 0.6395, val_acc: 84.6217\n"
          ]
        }
      ],
      "source": [
        "#repair step\n",
        "other_samples = []\n",
        "for i in range(len(retain_samples)):\n",
        "    other_samples.append((retain_samples[i][0].cpu(), torch.tensor(retain_samples[i][2]),\n",
        "                            torch.tensor(retain_samples[i][2])))\n",
        "\n",
        "heal_loader = torch.utils.data.DataLoader(other_samples, batch_size=batch_size, shuffle = True)\n",
        "epochs = 1\n",
        "history = fit_one_unlearning_cycle(epochs, student_model, heal_loader, retain_valid_dl, device = device, lr = 0.0001)"
      ],
      "id": "b_G9u5cqLxQo"
    },
    {
      "cell_type": "code",
      "execution_count": null,
      "metadata": {
        "id": "U2DQL-_oLxQo",
        "outputId": "1df704dd-bb5f-4306-9140-ab272bc21f0b"
      },
      "outputs": [
        {
          "name": "stdout",
          "output_type": "stream",
          "text": [
            "Forget Performance: {'Loss': 4.577937602996826, 'Acc': 17.43404197692871}\n",
            "Retain Performance: {'Loss': 0.639464259147644, 'Acc': 84.62171173095703}\n"
          ]
        }
      ],
      "source": [
        "print(\"Forget Performance: {}\".format(evaluate(student_model, forget_valid_dl, device)))\n",
        "print(\"Retain Performance: {}\".format(evaluate(student_model, retain_valid_dl, device)))"
      ],
      "id": "U2DQL-_oLxQo"
    },
    {
      "cell_type": "code",
      "execution_count": null,
      "metadata": {
        "id": "lIj1Lf9DLxQp"
      },
      "outputs": [],
      "source": [],
      "id": "lIj1Lf9DLxQp"
    }
  ],
  "metadata": {
    "kernelspec": {
      "display_name": "Python 3",
      "name": "python3"
    },
    "language_info": {
      "codemirror_mode": {
        "name": "ipython",
        "version": 3
      },
      "file_extension": ".py",
      "mimetype": "text/x-python",
      "name": "python",
      "nbconvert_exporter": "python",
      "pygments_lexer": "ipython3",
      "version": "3.7.7"
    },
    "colab": {
      "provenance": [],
      "gpuType": "V28"
    },
    "accelerator": "TPU"
  },
  "nbformat": 4,
  "nbformat_minor": 5
}
