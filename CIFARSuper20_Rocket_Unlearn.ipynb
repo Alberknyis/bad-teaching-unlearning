{
  "cells": [
    {
      "cell_type": "code",
      "source": [
        "#!pip uninstall tensorflow\n",
        "!pip install torch torchvision -U"
      ],
      "metadata": {
        "id": "DUuyMFx0BIFj"
      },
      "id": "DUuyMFx0BIFj",
      "execution_count": null,
      "outputs": []
    },
    {
      "cell_type": "code",
      "source": [
        "!git clone https://github.com/Alberknyis/bad-teaching-unlearning.git"
      ],
      "metadata": {
        "id": "7Ww4ISl7L_EX",
        "outputId": "84dfdcfe-e905-4e9e-d826-978e8adcb2ad",
        "colab": {
          "base_uri": "https://localhost:8080/"
        }
      },
      "id": "7Ww4ISl7L_EX",
      "execution_count": 1,
      "outputs": [
        {
          "output_type": "stream",
          "name": "stdout",
          "text": [
            "Cloning into 'bad-teaching-unlearning'...\n",
            "remote: Enumerating objects: 30, done.\u001b[K\n",
            "remote: Counting objects: 100% (30/30), done.\u001b[K\n",
            "remote: Compressing objects: 100% (30/30), done.\u001b[K\n",
            "remote: Total 30 (delta 12), reused 0 (delta 0), pack-reused 0\u001b[K\n",
            "Receiving objects: 100% (30/30), 33.75 KiB | 33.75 MiB/s, done.\n",
            "Resolving deltas: 100% (12/12), done.\n"
          ]
        }
      ]
    },
    {
      "cell_type": "code",
      "source": [
        "import sys\n",
        "sys.path.insert(0,'/content/bad-teaching-unlearning')"
      ],
      "metadata": {
        "id": "AOgGPqXCMbCG"
      },
      "id": "AOgGPqXCMbCG",
      "execution_count": 1,
      "outputs": []
    },
    {
      "cell_type": "code",
      "execution_count": 2,
      "metadata": {
        "id": "4RuRwnkMLxQU"
      },
      "outputs": [],
      "source": [
        "import torch\n",
        "\n",
        "from dataset import *\n",
        "from model import ResNet18\n",
        "from unlearn import *\n",
        "from metrics import UnLearningScore\n",
        "from utils import *\n",
        "from torch.utils.data import DataLoader"
      ],
      "id": "4RuRwnkMLxQU"
    },
    {
      "cell_type": "code",
      "source": [
        "#import torch_xla\n",
        "import torch_xla.core.xla_model as xm\n",
        "device = xm.xla_device()"
      ],
      "metadata": {
        "id": "l9GK5GMUNxKg"
      },
      "id": "l9GK5GMUNxKg",
      "execution_count": 3,
      "outputs": []
    },
    {
      "cell_type": "code",
      "execution_count": 4,
      "metadata": {
        "id": "oiFkNpajLxQV",
        "outputId": "d3a87b28-2cd3-4ffe-b10d-9c764b85f732",
        "colab": {
          "base_uri": "https://localhost:8080/"
        }
      },
      "outputs": [
        {
          "output_type": "stream",
          "name": "stdout",
          "text": [
            "Files already downloaded and verified\n",
            "Files already downloaded and verified\n"
          ]
        }
      ],
      "source": [
        "train_ds = CustomCIFAR100(root='.', train=True,download=True, transform=transform_train)\n",
        "valid_ds = CustomCIFAR100(root='.', train=False,download=True, transform=transform_train)\n",
        "\n",
        "batch_size = 256\n",
        "#batch_size = 128\n",
        "train_dl = DataLoader(train_ds, batch_size, shuffle=True, num_workers=32, pin_memory=True)\n",
        "valid_dl = DataLoader(valid_ds, batch_size, num_workers=32, pin_memory=True)\n",
        "\n",
        "#train_dl = DataLoader(train_ds, batch_size, shuffle=True, num_workers=8, pin_memory=True)\n",
        "#valid_dl = DataLoader(valid_ds, batch_size, num_workers=8, pin_memory=True)"
      ],
      "id": "oiFkNpajLxQV"
    },
    {
      "cell_type": "code",
      "execution_count": 5,
      "metadata": {
        "id": "ecAGxSh7LxQW"
      },
      "outputs": [],
      "source": [
        "num_classes = 100\n",
        "classwise_train = {}\n",
        "for i in range(num_classes):\n",
        "    classwise_train[i] = []\n",
        "\n",
        "for img, label, clabel in train_ds:\n",
        "    classwise_train[label].append((img, label, clabel))\n",
        "\n",
        "classwise_test = {}\n",
        "for i in range(num_classes):\n",
        "    classwise_test[i] = []\n",
        "\n",
        "for img, label, clabel in valid_ds:\n",
        "    classwise_test[label].append((img, label, clabel))"
      ],
      "id": "ecAGxSh7LxQW"
    },
    {
      "cell_type": "code",
      "source": [
        "!nvidia-smi"
      ],
      "metadata": {
        "id": "4a7XOCBZXCSH",
        "outputId": "c5bd07b2-fb48-4b93-9a38-33291c152200",
        "colab": {
          "base_uri": "https://localhost:8080/"
        }
      },
      "id": "4a7XOCBZXCSH",
      "execution_count": null,
      "outputs": [
        {
          "output_type": "stream",
          "name": "stdout",
          "text": [
            "/bin/bash: line 1: nvidia-smi: command not found\n"
          ]
        }
      ]
    },
    {
      "cell_type": "code",
      "execution_count": 6,
      "metadata": {
        "id": "jQO26KwQLxQX",
        "outputId": "4aa583ee-7aa3-459a-8b0c-4a1c3a78349f",
        "colab": {
          "base_uri": "https://localhost:8080/"
        }
      },
      "outputs": [
        {
          "output_type": "stream",
          "name": "stderr",
          "text": [
            "/usr/local/lib/python3.10/dist-packages/torchvision/models/_utils.py:208: UserWarning: The parameter 'pretrained' is deprecated since 0.13 and may be removed in the future, please use 'weights' instead.\n",
            "  warnings.warn(\n",
            "/usr/local/lib/python3.10/dist-packages/torchvision/models/_utils.py:223: UserWarning: Arguments other than a weight enum or `None` for 'weights' are deprecated since 0.13 and may be removed in the future. The current behavior is equivalent to passing `weights=ResNet18_Weights.IMAGENET1K_V1`. You can also use `weights=ResNet18_Weights.DEFAULT` to get the most up-to-date weights.\n",
            "  warnings.warn(msg)\n",
            "/usr/local/lib/python3.10/dist-packages/torch/optim/lr_scheduler.py:28: UserWarning: The verbose parameter is deprecated. Please use get_last_lr() to access the learning rate.\n",
            "  warnings.warn(\"The verbose parameter is deprecated. Please use get_last_lr() \"\n"
          ]
        },
        {
          "output_type": "stream",
          "name": "stdout",
          "text": [
            "Epoch [0], last_lr: 0.00100, train_loss: 1.2617, val_loss: 1.0929, val_acc: 66.8262\n"
          ]
        }
      ],
      "source": [
        "# train the model\n",
        "#device = 'cuda'\n",
        "model = ResNet18(num_classes = 20, pretrained = True).to(device)\n",
        "#epochs = 5\n",
        "epochs = 1\n",
        "history = fit_one_cycle(epochs, model, train_dl, valid_dl, device = device)\n",
        "torch.save(model.state_dict(), \"ResNET18_CIFAR100Super20_Pretrained_ALL_CLASSES_5_Epochs.pt\")"
      ],
      "id": "jQO26KwQLxQX"
    },
    {
      "cell_type": "code",
      "source": [
        "torch.save(model.state_dict(), \"ResNET18_CIFAR100Super20_Pretrained_ALL_CLASSES_5_Epochs.pt\")"
      ],
      "metadata": {
        "id": "vlfvQWQtkfR2"
      },
      "id": "vlfvQWQtkfR2",
      "execution_count": 8,
      "outputs": []
    },
    {
      "cell_type": "code",
      "execution_count": 7,
      "metadata": {
        "id": "mZIHWa1iLxQY",
        "outputId": "debfdfdc-8c7a-4476-8c13-d1763454bb1c",
        "colab": {
          "base_uri": "https://localhost:8080/"
        }
      },
      "outputs": [
        {
          "output_type": "execute_result",
          "data": {
            "text/plain": [
              "<All keys matched successfully>"
            ]
          },
          "metadata": {},
          "execution_count": 7
        }
      ],
      "source": [
        "# load the trained model\n",
        "#device = 'cuda'\n",
        "model = ResNet18(num_classes = 20, pretrained = True).to(device)\n",
        "model.load_state_dict(torch.load(\"ResNET18_CIFAR100Super20_Pretrained_ALL_CLASSES_5_Epochs.pt\", map_location='cuda'))"
      ],
      "id": "mZIHWa1iLxQY"
    },
    {
      "cell_type": "markdown",
      "metadata": {
        "id": "Omi8QF8pLxQY"
      },
      "source": [
        "# Forgetting Rocket\n",
        "The Rocket is class 69 in CIFAR100 and belongs to Super Class 19 (Vehicles) in CIFAR Super 20."
      ],
      "id": "Omi8QF8pLxQY"
    },
    {
      "cell_type": "code",
      "execution_count": 8,
      "metadata": {
        "id": "w4JCNgjvLxQa"
      },
      "outputs": [],
      "source": [
        "# Getting the forget and retain validation data\n",
        "forget_valid = []\n",
        "forget_classes = [69]\n",
        "for cls in range(num_classes):\n",
        "    if cls in forget_classes:\n",
        "        for img, label, clabel in classwise_test[cls]:\n",
        "            forget_valid.append((img, label, clabel))\n",
        "\n",
        "retain_valid = []\n",
        "for cls in range(num_classes):\n",
        "    if cls not in forget_classes:\n",
        "        for img, label, clabel in classwise_test[cls]:\n",
        "            retain_valid.append((img, label, clabel))\n",
        "\n",
        "forget_train = []\n",
        "for cls in range(num_classes):\n",
        "    if cls in forget_classes:\n",
        "        for img, label, clabel in classwise_train[cls]:\n",
        "            forget_train.append((img, label, clabel))\n",
        "\n",
        "retain_train = []\n",
        "for cls in range(num_classes):\n",
        "    if cls not in forget_classes:\n",
        "        for img, label, clabel in classwise_train[cls]:\n",
        "            retain_train.append((img, label, clabel))\n",
        "\n",
        "forget_valid_dl = DataLoader(forget_valid, batch_size, num_workers=32, pin_memory=True)\n",
        "\n",
        "retain_valid_dl = DataLoader(retain_valid, batch_size, num_workers=32, pin_memory=True)\n",
        "\n",
        "forget_train_dl = DataLoader(forget_train, batch_size, num_workers=32, pin_memory=True)\n",
        "retain_train_dl = DataLoader(retain_train, batch_size, num_workers=32, pin_memory=True, shuffle = True)\n",
        "import random\n",
        "retain_train_subset = random.sample(retain_train, int(0.3*len(retain_train)))\n",
        "retain_train_subset_dl = DataLoader(retain_train_subset, batch_size, num_workers=32, pin_memory=True, shuffle = True)"
      ],
      "id": "w4JCNgjvLxQa"
    },
    {
      "cell_type": "code",
      "execution_count": 9,
      "metadata": {
        "id": "5meBet1gLxQa",
        "outputId": "773e950e-410c-460a-ccad-cf87751ce876",
        "colab": {
          "base_uri": "https://localhost:8080/"
        }
      },
      "outputs": [
        {
          "output_type": "execute_result",
          "data": {
            "text/plain": [
              "{'Loss': 1.0884790420532227, 'Acc': 66.85185241699219}"
            ]
          },
          "metadata": {},
          "execution_count": 9
        }
      ],
      "source": [
        "# Performance of Fully trained model on retain set\n",
        "evaluate(model, retain_valid_dl, device)"
      ],
      "id": "5meBet1gLxQa"
    },
    {
      "cell_type": "code",
      "execution_count": 10,
      "metadata": {
        "id": "rg62C1WZLxQb",
        "outputId": "ac639c37-9ab1-4851-ed00-27253d83bdc8",
        "colab": {
          "base_uri": "https://localhost:8080/"
        }
      },
      "outputs": [
        {
          "output_type": "execute_result",
          "data": {
            "text/plain": [
              "{'Loss': 0.4739783704280853, 'Acc': 82.0}"
            ]
          },
          "metadata": {},
          "execution_count": 10
        }
      ],
      "source": [
        "# Performance of Fully trained model on retain set\n",
        "evaluate(model, forget_valid_dl, device)"
      ],
      "id": "rg62C1WZLxQb"
    },
    {
      "cell_type": "markdown",
      "metadata": {
        "id": "F87VLwswLxQd"
      },
      "source": [
        "## Retrain the model from Scratch\n",
        "Create Retrained Model (Gold model). This is the model trained from scratch without forget data."
      ],
      "id": "F87VLwswLxQd"
    },
    {
      "cell_type": "code",
      "execution_count": 11,
      "metadata": {
        "id": "nguWKolHLxQd",
        "colab": {
          "base_uri": "https://localhost:8080/"
        },
        "outputId": "b8b531bd-5969-42bb-de9a-00ee34e6ad01"
      },
      "outputs": [
        {
          "output_type": "stream",
          "name": "stdout",
          "text": [
            "Epoch [0], last_lr: 0.00100, train_loss: 1.2404, val_loss: 1.0045, val_acc: 68.1234\n"
          ]
        }
      ],
      "source": [
        "#device = 'cuda'\n",
        "gold_model = ResNet18(num_classes = 20, pretrained = True).to(device)\n",
        "epochs = 5\n",
        "epochs = 1\n",
        "history = fit_one_cycle(epochs, gold_model, retain_train_dl, retain_valid_dl, device = device)\n",
        "torch.save(gold_model.state_dict(), \"ResNET18_CIFAR100Super20_Pretrained_Gold_Class69_5_Epochs.pt\")"
      ],
      "id": "nguWKolHLxQd"
    },
    {
      "cell_type": "code",
      "execution_count": 12,
      "metadata": {
        "id": "7WKjB2CYLxQe",
        "outputId": "e40b9b6d-5778-4cb6-98d5-6249ff66b75c",
        "colab": {
          "base_uri": "https://localhost:8080/"
        }
      },
      "outputs": [
        {
          "output_type": "execute_result",
          "data": {
            "text/plain": [
              "<All keys matched successfully>"
            ]
          },
          "metadata": {},
          "execution_count": 12
        }
      ],
      "source": [
        "#device = 'cuda'\n",
        "gold_model = ResNet18(num_classes = 20, pretrained = True).to(device)\n",
        "gold_model.load_state_dict(torch.load(\"ResNET18_CIFAR100Super20_Pretrained_Gold_Class69_5_Epochs.pt\", map_location=device))"
      ],
      "id": "7WKjB2CYLxQe"
    },
    {
      "cell_type": "code",
      "execution_count": 13,
      "metadata": {
        "id": "Kcrbv0IyLxQf",
        "outputId": "405bc64c-e0ff-4e28-b226-271985072764",
        "colab": {
          "base_uri": "https://localhost:8080/"
        }
      },
      "outputs": [
        {
          "output_type": "execute_result",
          "data": {
            "text/plain": [
              "{'Loss': 6.002573490142822, 'Acc': 2.0}"
            ]
          },
          "metadata": {},
          "execution_count": 13
        }
      ],
      "source": [
        "# evaluate gold model on forget set\n",
        "evaluate(gold_model, forget_valid_dl, device)"
      ],
      "id": "Kcrbv0IyLxQf"
    },
    {
      "cell_type": "code",
      "execution_count": 14,
      "metadata": {
        "id": "uJcEcEhJLxQf",
        "outputId": "466e74f1-9de9-48e4-8b5b-855358c98a52",
        "colab": {
          "base_uri": "https://localhost:8080/"
        }
      },
      "outputs": [
        {
          "output_type": "execute_result",
          "data": {
            "text/plain": [
              "{'Loss': 1.0045000314712524, 'Acc': 68.1234130859375}"
            ]
          },
          "metadata": {},
          "execution_count": 14
        }
      ],
      "source": [
        "# evaluate gold model on retain set\n",
        "evaluate(gold_model, retain_valid_dl, device)"
      ],
      "id": "uJcEcEhJLxQf"
    },
    {
      "cell_type": "code",
      "source": [],
      "metadata": {
        "id": "bxmsvu749OsS"
      },
      "id": "bxmsvu749OsS",
      "execution_count": null,
      "outputs": []
    },
    {
      "cell_type": "markdown",
      "metadata": {
        "id": "KMNspfHQLxQg"
      },
      "source": [
        "## UnLearning via proposed method"
      ],
      "id": "KMNspfHQLxQg"
    },
    {
      "cell_type": "code",
      "execution_count": 15,
      "metadata": {
        "id": "ZVjSX9p4LxQh",
        "outputId": "9a9ac1ed-805f-4c21-c894-b9043675b0de",
        "colab": {
          "base_uri": "https://localhost:8080/"
        }
      },
      "outputs": [
        {
          "output_type": "stream",
          "name": "stderr",
          "text": [
            "/usr/local/lib/python3.10/dist-packages/torchvision/models/_utils.py:223: UserWarning: Arguments other than a weight enum or `None` for 'weights' are deprecated since 0.13 and may be removed in the future. The current behavior is equivalent to passing `weights=None`.\n",
            "  warnings.warn(msg)\n",
            "/usr/local/lib/python3.10/dist-packages/torch/nn/functional.py:2949: UserWarning: reduction: 'mean' divides the total loss by both the batch size and the support size.'batchmean' divides only by the batch size, and aligns with the KL div math definition.'mean' will be changed to behave the same as 'batchmean' in the next major release.\n",
            "  warnings.warn(\n",
            "/usr/local/lib/python3.10/dist-packages/torch/autograd/__init__.py:266: UserWarning: aten::kl_div: an autograd kernel was not registered to the Autograd key(s) but we are trying to backprop through it. This may lead to silently incorrect behavior. This behavior is deprecated and will be removed in a future version of PyTorch. If your operator is differentiable, please ensure you have registered an autograd kernel to the correct Autograd key (e.g. DispatchKey::Autograd, DispatchKey::CompositeImplicitAutograd). If your operator is not differentiable, or to squash this warning and use the previous behavior, please register torch::CppFunction::makeFallthrough() to DispatchKey::Autograd. (Triggered internally at ../torch/csrc/autograd/autograd_not_implemented_fallback.cpp:63.)\n",
            "  Variable._execution_engine.run_backward(  # Calls into the C++ engine to run the backward pass\n"
          ]
        },
        {
          "output_type": "stream",
          "name": "stdout",
          "text": [
            "Epoch 1 Unlearning Loss 0.010300659574568272\n"
          ]
        }
      ],
      "source": [
        "#device = 'cuda'\n",
        "unlearning_teacher = ResNet18(num_classes = 20, pretrained = False).to(device).eval()\n",
        "student_model = ResNet18(num_classes = 20, pretrained = False).to(device)\n",
        "student_model.load_state_dict(torch.load(\"ResNET18_CIFAR100Super20_Pretrained_ALL_CLASSES_5_Epochs.pt\", map_location = device))\n",
        "model = model.eval()\n",
        "\n",
        "KL_temperature = 1\n",
        "\n",
        "optimizer = torch.optim.Adam(student_model.parameters(), lr = 0.0001)\n",
        "\n",
        "blindspot_unlearner(model = student_model, unlearning_teacher = unlearning_teacher, full_trained_teacher = model,\n",
        "          retain_data = retain_train_subset, forget_data = forget_train, epochs = 1, optimizer = optimizer, lr = 0.0001,\n",
        "          batch_size = 256, num_workers = 32, device = device, KL_temperature = KL_temperature)"
      ],
      "id": "ZVjSX9p4LxQh"
    },
    {
      "cell_type": "code",
      "execution_count": 16,
      "metadata": {
        "id": "rmjRNCuWLxQh",
        "outputId": "77442915-2bea-437a-fc08-490d4c713a7e",
        "colab": {
          "base_uri": "https://localhost:8080/"
        }
      },
      "outputs": [
        {
          "output_type": "execute_result",
          "data": {
            "text/plain": [
              "{'Loss': 2.4537575244903564, 'Acc': 13.0}"
            ]
          },
          "metadata": {},
          "execution_count": 16
        }
      ],
      "source": [
        "# performance of unlearned model on forget set\n",
        "evaluate(student_model, forget_valid_dl, device)"
      ],
      "id": "rmjRNCuWLxQh"
    },
    {
      "cell_type": "code",
      "execution_count": 17,
      "metadata": {
        "id": "WYme22DBLxQi",
        "outputId": "aa97c278-f336-46f3-cff2-552fa6bf9b5e",
        "colab": {
          "base_uri": "https://localhost:8080/"
        }
      },
      "outputs": [
        {
          "output_type": "execute_result",
          "data": {
            "text/plain": [
              "{'Loss': 1.0236799716949463, 'Acc': 67.97853088378906}"
            ]
          },
          "metadata": {},
          "execution_count": 17
        }
      ],
      "source": [
        "# performance of unlearned model on retain set\n",
        "evaluate(student_model, retain_valid_dl, device)"
      ],
      "id": "WYme22DBLxQi"
    },
    {
      "cell_type": "markdown",
      "metadata": {
        "id": "3JxoHah0LxQi"
      },
      "source": [
        "### Measure ZRF (Unlearning Score)"
      ],
      "id": "3JxoHah0LxQi"
    },
    {
      "cell_type": "code",
      "execution_count": 18,
      "metadata": {
        "id": "4Y_mU73lLxQi",
        "outputId": "325c537f-e354-41e0-aa66-626d73fa1de7",
        "colab": {
          "base_uri": "https://localhost:8080/"
        }
      },
      "outputs": [
        {
          "output_type": "stream",
          "name": "stdout",
          "text": [
            "Initial Score: 0.860691249370575\n",
            "Our Score: 0.9791713356971741\n",
            "Gold Score: 0.9561689496040344\n",
            "JS Div: 0.024255990982055664\n"
          ]
        }
      ],
      "source": [
        "#print(\"Initial Score: {}\".format(UnLearningScore(model, unlearning_teacher, forget_valid_dl, 256, 'cuda')))\n",
        "#print(\"Our Score: {}\".format(UnLearningScore(student_model, unlearning_teacher, forget_valid_dl, 256, 'cuda')))\n",
        "#print(\"Gold Score: {}\".format(UnLearningScore(gold_model, unlearning_teacher, forget_valid_dl, 256, 'cuda')))\n",
        "#print(\"JS Div: {}\".format(1-UnLearningScore(gold_model, student_model, forget_valid_dl, 256, 'cuda')))\n",
        "print(\"Initial Score: {}\".format(UnLearningScore(model, unlearning_teacher, forget_valid_dl, 256, device)))\n",
        "print(\"Our Score: {}\".format(UnLearningScore(student_model, unlearning_teacher, forget_valid_dl, 256, device)))\n",
        "print(\"Gold Score: {}\".format(UnLearningScore(gold_model, unlearning_teacher, forget_valid_dl, 256, device)))\n",
        "print(\"JS Div: {}\".format(1-UnLearningScore(gold_model, student_model, forget_valid_dl, 256, device)))"
      ],
      "id": "4Y_mU73lLxQi"
    },
    {
      "cell_type": "markdown",
      "metadata": {
        "id": "5uG-JoObLxQj"
      },
      "source": [
        "## Unlearning using Amnesiac unlearning"
      ],
      "id": "5uG-JoObLxQj"
    },
    {
      "cell_type": "code",
      "execution_count": 19,
      "metadata": {
        "id": "fr9RVzsYLxQj"
      },
      "outputs": [],
      "source": [
        "unlearninglabels = list(range(20))\n",
        "unlearninglabels.remove(19)\n",
        "unlearning_train_set = []\n",
        "for cls in range(num_classes):\n",
        "    if cls in forget_classes:\n",
        "        for img, label, clabel in classwise_train[cls]:\n",
        "            unlearning_train_set.append((img, label, random.choice(unlearninglabels)))\n",
        "\n",
        "\n",
        "\n",
        "for cls in range(num_classes):\n",
        "    if cls not in forget_classes:\n",
        "        for img, label, clabel in classwise_train[cls]:\n",
        "            unlearning_train_set.append((img, label, clabel))"
      ],
      "id": "fr9RVzsYLxQj"
    },
    {
      "cell_type": "code",
      "execution_count": 20,
      "metadata": {
        "id": "Vv9i0HTELxQj"
      },
      "outputs": [],
      "source": [
        "unlearning_train_set_dl = DataLoader(unlearning_train_set, batch_size, num_workers = 32, pin_memory = True, shuffle = True)"
      ],
      "id": "Vv9i0HTELxQj"
    },
    {
      "cell_type": "code",
      "execution_count": 21,
      "metadata": {
        "id": "Fl3dyTPTLxQk",
        "outputId": "ee562835-89ee-4dba-f8f5-5f355af04072",
        "colab": {
          "base_uri": "https://localhost:8080/"
        }
      },
      "outputs": [
        {
          "output_type": "stream",
          "name": "stdout",
          "text": [
            "Epoch [0], last_lr: 0.00010, train_loss: 0.5242, val_loss: 0.5378, val_acc: 83.0200\n",
            "Epoch [1], last_lr: 0.00010, train_loss: 0.3309, val_loss: 0.5265, val_acc: 84.0671\n",
            "Epoch [2], last_lr: 0.00010, train_loss: 0.2036, val_loss: 0.5543, val_acc: 84.3785\n"
          ]
        }
      ],
      "source": [
        "#device = 'cuda'\n",
        "student_model = ResNet18(num_classes = 20, pretrained = True).to(device)\n",
        "student_model.load_state_dict(torch.load(\"ResNET18_CIFAR100Super20_Pretrained_ALL_CLASSES_5_Epochs.pt\", map_location = 'cuda'))\n",
        "epochs = 3\n",
        "\n",
        "history = fit_one_unlearning_cycle(epochs, student_model, unlearning_train_set_dl, retain_valid_dl, device = device, lr = 0.0001)"
      ],
      "id": "Fl3dyTPTLxQk"
    },
    {
      "cell_type": "code",
      "execution_count": 22,
      "metadata": {
        "id": "YLPPpFWsLxQk",
        "outputId": "c4011418-2ecf-4aaa-e667-104d6b360cdc",
        "colab": {
          "base_uri": "https://localhost:8080/"
        }
      },
      "outputs": [
        {
          "output_type": "stream",
          "name": "stdout",
          "text": [
            "Forget Performance: {'Loss': 3.6175918579101562, 'Acc': 4.0}\n",
            "Retain Performance: {'Loss': 0.5542724132537842, 'Acc': 84.37849426269531}\n"
          ]
        }
      ],
      "source": [
        "print(\"Forget Performance: {}\".format(evaluate(student_model, forget_valid_dl, device)))\n",
        "print(\"Retain Performance: {}\".format(evaluate(student_model, retain_valid_dl, device)))"
      ],
      "id": "YLPPpFWsLxQk"
    },
    {
      "cell_type": "markdown",
      "metadata": {
        "id": "J5ZajW_PLxQl"
      },
      "source": [
        "## Unlearning using UNSIR (Class 0)"
      ],
      "id": "J5ZajW_PLxQl"
    },
    {
      "cell_type": "code",
      "execution_count": 23,
      "metadata": {
        "id": "ihsPSakVLxQl"
      },
      "outputs": [],
      "source": [
        "num_classes = 20\n",
        "classwise_train = {}\n",
        "for i in range(num_classes):\n",
        "    classwise_train[i] = []\n",
        "\n",
        "for img, label, clabel in train_ds:\n",
        "    classwise_train[clabel].append((img, label, clabel))\n",
        "\n",
        "classwise_test = {}\n",
        "for i in range(num_classes):\n",
        "    classwise_test[i] = []\n",
        "\n",
        "for img, label, clabel in valid_ds:\n",
        "    classwise_test[clabel].append((img, label, clabel))"
      ],
      "id": "ihsPSakVLxQl"
    },
    {
      "cell_type": "code",
      "execution_count": 24,
      "metadata": {
        "id": "HoOf6EecLxQl"
      },
      "outputs": [],
      "source": [
        "# Getting the forget and retain validation data\n",
        "forget_valid = []\n",
        "forget_classes = [0]\n",
        "for cls in range(num_classes):\n",
        "    if cls in forget_classes:\n",
        "        for img, label, clabel in classwise_test[cls]:\n",
        "            forget_valid.append((img, label, clabel))\n",
        "\n",
        "retain_valid = []\n",
        "for cls in range(num_classes):\n",
        "    if cls not in forget_classes:\n",
        "        for img, label, clabel in classwise_test[cls]:\n",
        "            retain_valid.append((img, label, clabel))\n",
        "\n",
        "forget_train = []\n",
        "for cls in range(num_classes):\n",
        "    if cls in forget_classes:\n",
        "        for img, label, clabel in classwise_train[cls]:\n",
        "            forget_train.append((img, label, clabel))\n",
        "\n",
        "retain_train = []\n",
        "for cls in range(num_classes):\n",
        "    if cls not in forget_classes:\n",
        "        for img, label, clabel in classwise_train[cls]:\n",
        "            retain_train.append((img, label, clabel))\n",
        "\n",
        "forget_valid_dl = DataLoader(forget_valid, batch_size, num_workers=32, pin_memory=True)\n",
        "\n",
        "retain_valid_dl = DataLoader(retain_valid, batch_size, num_workers=32, pin_memory=True)\n",
        "\n",
        "forget_train_dl = DataLoader(forget_train, batch_size, num_workers=32, pin_memory=True)\n",
        "retain_train_dl = DataLoader(retain_train, batch_size, num_workers=32, pin_memory=True, shuffle = True)"
      ],
      "id": "HoOf6EecLxQl"
    },
    {
      "cell_type": "code",
      "execution_count": 25,
      "metadata": {
        "id": "KJxIJscnLxQl"
      },
      "outputs": [],
      "source": [
        "#collect some samples from each class\n",
        "num_samples = 500\n",
        "retain_samples = []\n",
        "for i in range(num_classes):\n",
        "    if i not in forget_classes:\n",
        "        retain_samples += classwise_train[i][:num_samples]"
      ],
      "id": "KJxIJscnLxQl"
    },
    {
      "cell_type": "code",
      "execution_count": 26,
      "metadata": {
        "id": "0YVxHT4yLxQl"
      },
      "outputs": [],
      "source": [
        "noise_batch_size = 256"
      ],
      "id": "0YVxHT4yLxQl"
    },
    {
      "cell_type": "code",
      "execution_count": 27,
      "metadata": {
        "id": "2WmgioLdLxQm",
        "outputId": "5667ddee-a705-4560-e40f-b6cccf0348a5",
        "colab": {
          "base_uri": "https://localhost:8080/"
        }
      },
      "outputs": [
        {
          "output_type": "execute_result",
          "data": {
            "text/plain": [
              "<All keys matched successfully>"
            ]
          },
          "metadata": {},
          "execution_count": 27
        }
      ],
      "source": [
        "#device = 'cuda'\n",
        "student_model = ResNet18(num_classes = 20, pretrained = False).to(device)\n",
        "student_model.load_state_dict(torch.load(\"ResNET18_CIFAR100Super20_Pretrained_ALL_CLASSES_5_Epochs.pt\", map_location = device))"
      ],
      "id": "2WmgioLdLxQm"
    },
    {
      "cell_type": "code",
      "execution_count": 28,
      "metadata": {
        "id": "8sTO7xNwLxQm"
      },
      "outputs": [],
      "source": [
        "noise = UNSIR_noise(batch_size, 3, 224, 224).to(device)"
      ],
      "id": "8sTO7xNwLxQm"
    },
    {
      "cell_type": "code",
      "execution_count": 31,
      "metadata": {
        "id": "8V-i307yLxQm"
      },
      "outputs": [],
      "source": [
        "forget_class_label = 0\n",
        "#num_epochs = 250\n",
        "num_epochs = 1"
      ],
      "id": "8V-i307yLxQm"
    },
    {
      "cell_type": "code",
      "execution_count": 32,
      "metadata": {
        "id": "eEsLBQgzLxQn",
        "outputId": "f513c59c-5e52-47a3-caa2-aaa133ede929",
        "colab": {
          "base_uri": "https://localhost:8080/"
        }
      },
      "outputs": [
        {
          "output_type": "stream",
          "name": "stdout",
          "text": [
            "Loss: 751.0631713867188\n"
          ]
        }
      ],
      "source": [
        "noise =  UNSIR_noise_train(noise, student_model, forget_class_label, num_epochs,\\\n",
        "                           noise_batch_size, device=device)"
      ],
      "id": "eEsLBQgzLxQn"
    },
    {
      "cell_type": "code",
      "execution_count": 33,
      "metadata": {
        "id": "_DHYYyZjLxQn"
      },
      "outputs": [],
      "source": [
        "#takes 19 years\n",
        "noisy_loader = UNSIR_create_noisy_loader(noise, forget_class_label\\\n",
        "                                         , retain_samples, batch_size, device=device)"
      ],
      "id": "_DHYYyZjLxQn"
    },
    {
      "cell_type": "code",
      "execution_count": 34,
      "metadata": {
        "id": "MRgMcTvcLxQn",
        "outputId": "6eaafd1b-e926-4857-a556-afde28577d01",
        "colab": {
          "base_uri": "https://localhost:8080/"
        }
      },
      "outputs": [
        {
          "output_type": "stream",
          "name": "stdout",
          "text": [
            "Epoch [0], last_lr: 0.00010, train_loss: 0.7036, val_loss: 0.7013, val_acc: 79.1133\n"
          ]
        }
      ],
      "source": [
        "#impair step\n",
        "epochs = 1\n",
        "history = fit_one_unlearning_cycle(epochs, student_model, noisy_loader, retain_valid_dl, device = device, lr = 0.0001)"
      ],
      "id": "MRgMcTvcLxQn"
    },
    {
      "cell_type": "code",
      "execution_count": null,
      "metadata": {
        "id": "cb-wed4fLxQo"
      },
      "outputs": [],
      "source": [
        "print(\"Forget Performance: {}\".format(evaluate(student_model, forget_valid_dl, device)))\n",
        "print(\"Retain Performance: {}\".format(evaluate(student_model, retain_valid_dl, device)))"
      ],
      "id": "cb-wed4fLxQo"
    },
    {
      "cell_type": "code",
      "execution_count": null,
      "metadata": {
        "id": "b_G9u5cqLxQo",
        "outputId": "f4569908-6c50-4a6e-aa48-8e7a8fc3e6b3"
      },
      "outputs": [
        {
          "name": "stdout",
          "output_type": "stream",
          "text": [
            "Epoch [0], last_lr: 0.00010, train_loss: 0.0178, val_loss: 0.6395, val_acc: 84.6217\n"
          ]
        }
      ],
      "source": [
        "#repair step\n",
        "other_samples = []\n",
        "for i in range(len(retain_samples)):\n",
        "    other_samples.append((retain_samples[i][0].cpu(), torch.tensor(retain_samples[i][2]),\n",
        "                            torch.tensor(retain_samples[i][2])))\n",
        "\n",
        "heal_loader = torch.utils.data.DataLoader(other_samples, batch_size=batch_size, shuffle = True)\n",
        "epochs = 1\n",
        "history = fit_one_unlearning_cycle(epochs, student_model, heal_loader, retain_valid_dl, device = device, lr = 0.0001)"
      ],
      "id": "b_G9u5cqLxQo"
    },
    {
      "cell_type": "code",
      "execution_count": null,
      "metadata": {
        "id": "U2DQL-_oLxQo",
        "outputId": "1df704dd-bb5f-4306-9140-ab272bc21f0b"
      },
      "outputs": [
        {
          "name": "stdout",
          "output_type": "stream",
          "text": [
            "Forget Performance: {'Loss': 4.577937602996826, 'Acc': 17.43404197692871}\n",
            "Retain Performance: {'Loss': 0.639464259147644, 'Acc': 84.62171173095703}\n"
          ]
        }
      ],
      "source": [
        "print(\"Forget Performance: {}\".format(evaluate(student_model, forget_valid_dl, device)))\n",
        "print(\"Retain Performance: {}\".format(evaluate(student_model, retain_valid_dl, device)))"
      ],
      "id": "U2DQL-_oLxQo"
    },
    {
      "cell_type": "code",
      "execution_count": null,
      "metadata": {
        "id": "lIj1Lf9DLxQp"
      },
      "outputs": [],
      "source": [],
      "id": "lIj1Lf9DLxQp"
    }
  ],
  "metadata": {
    "kernelspec": {
      "display_name": "Python 3",
      "name": "python3"
    },
    "language_info": {
      "codemirror_mode": {
        "name": "ipython",
        "version": 3
      },
      "file_extension": ".py",
      "mimetype": "text/x-python",
      "name": "python",
      "nbconvert_exporter": "python",
      "pygments_lexer": "ipython3",
      "version": "3.7.7"
    },
    "colab": {
      "provenance": [],
      "gpuType": "V28"
    },
    "accelerator": "TPU"
  },
  "nbformat": 4,
  "nbformat_minor": 5
}